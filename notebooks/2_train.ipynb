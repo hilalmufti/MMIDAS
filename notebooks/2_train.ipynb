{
 "cells": [
  {
   "cell_type": "markdown",
   "metadata": {},
   "source": [
    "### Training MMIDAS - a coupled mixture VAE model\n",
    "This notebook guides you through the process of training a mixture variational autoencoder."
   ]
  },
  {
   "cell_type": "code",
   "execution_count": 1,
   "metadata": {},
   "outputs": [],
   "source": [
    "import mmidas\n",
    "from mmidas.nn_model import mixVAEConfig, loss_fn\n",
    "from mmidas.cpl_mixvae import cpl_mixVAE\n",
    "from mmidas.utils.tools import get_paths\n",
    "from mmidas.utils.dataloader import load_data, get_loaders\n",
    "import importlib\n",
    "import os\n",
    "import torch\n",
    "\n",
    "import warnings\n",
    "warnings.filterwarnings('ignore')"
   ]
  },
  {
   "cell_type": "markdown",
   "metadata": {},
   "source": [
    "Specify the training parameters."
   ]
  },
  {
   "cell_type": "code",
   "execution_count": 2,
   "metadata": {},
   "outputs": [],
   "source": [
    "n_categories = 120 # upper bound of number of categories (clusters)\n",
    "state_dim = 2 # continuous (state) variable dimensionality \n",
    "n_arm = 2 # number of arms\n",
    "latent_dim = 10 # latent dimensionality of the model\n",
    "batch_size = 5000 # mini-batch size for training\n",
    "n_epoch = 10 # number of epochs for training\n",
    "n_epoch_p = 5 # number of epochs for pruning\n",
    "min_con = 0.9 # minimum consensus among arms\n",
    "max_prun_it = 2 # maximum number of pruning iterations\n",
    "batch_size = 5000 # mini-batch size for training\n",
    "lr = 1e-3 # learning rate for training"
   ]
  },
  {
   "cell_type": "markdown",
   "metadata": {},
   "source": [
    "Load the prepared data (as described in ```1_data_prep.ipynb```) and create training and validation sets."
   ]
  },
  {
   "cell_type": "code",
   "execution_count": 3,
   "metadata": {},
   "outputs": [
    {
     "name": "stdout",
     "output_type": "stream",
     "text": [
      "/allen/programs/celltypes/workgroups/mousecelltypes/Hilal/MMIDAS/pyproject.toml\n",
      "Getting files directories belong to smartseq_files...\n"
     ]
    }
   ],
   "source": [
    "toml_file = 'pyproject.toml'\n",
    "sub_file = 'smartseq_files'\n",
    "config = get_paths(toml_file=toml_file, sub_file=sub_file)\n",
    "data_path = config['paths']['main_dir'] / config['paths']['data_path']\n",
    "data_file = data_path / config[sub_file]['anndata_file']"
   ]
  },
  {
   "cell_type": "code",
   "execution_count": 4,
   "metadata": {},
   "outputs": [
    {
     "name": "stdout",
     "output_type": "stream",
     "text": [
      "data is loaded!\n",
      " --------- Data Summary --------- \n",
      "num cell types: 115, num cells: 22365, num genes:5032\n"
     ]
    }
   ],
   "source": [
    "data = load_data(datafile=data_file)\n",
    "trainloader, testloader, _, = get_loaders(dataset=data['log1p'], batch_size=batch_size)"
   ]
  },
  {
   "cell_type": "markdown",
   "metadata": {},
   "source": [
    "Create a designated folder to store training files"
   ]
  },
  {
   "cell_type": "code",
   "execution_count": 5,
   "metadata": {},
   "outputs": [],
   "source": [
    "n_run = 1\n",
    "augmentation = False\n",
    "folder_name = f'run_{n_run}_K_{n_categories}_Sdim_{state_dim}_aug_{augmentation}_lr_{lr}_n_arm_{n_arm}_nbatch_{batch_size}' + \\\n",
    "            f'_nepoch_{n_epoch}_nepochP_{n_epoch_p}'\n",
    "saving_folder = config['paths']['main_dir'] / config['paths']['saving_path']\n",
    "saving_folder = saving_folder / folder_name\n",
    "os.makedirs(saving_folder, exist_ok=True)\n",
    "os.makedirs(saving_folder / 'model', exist_ok=True)\n",
    "saving_folder = str(saving_folder)"
   ]
  },
  {
   "cell_type": "markdown",
   "metadata": {},
   "source": [
    "Construct a cpl-mixVAE object and launch its training on the prepared data."
   ]
  },
  {
   "cell_type": "code",
   "execution_count": 14,
   "metadata": {},
   "outputs": [
    {
     "name": "stdout",
     "output_type": "stream",
     "text": [
      "warning: setting seed 546\n",
      "device: Tesla V100-SXM2-32GB\n",
      "Start training ...\n"
     ]
    },
    {
     "name": "stderr",
     "output_type": "stream",
     "text": [
      "  0%|          | 0/10 [00:00<?, ?it/s]"
     ]
    },
    {
     "name": "stderr",
     "output_type": "stream",
     "text": [
      " 10%|█         | 1/10 [00:00<00:08,  1.06it/s, Total Loss=1.67e+8, Rec_arm_1=8.8, Rec_arm_2=8.8, Joint Loss=1.67e+8, Entropy=-6.82, Distance=0.513, Elapsed Time=0.944, Validation Loss=1.98e+10, Validation Rec. Loss=8.75]"
     ]
    },
    {
     "name": "stdout",
     "output_type": "stream",
     "text": [
      "           -- EPOCH 0 --           \n",
      "Total Loss:                    167475746.0000                \n",
      "Rec_arm_1:                     8.8015                        \n",
      "Rec_arm_2:                     8.7973                        \n",
      "Joint Loss:                    167387184.0000                \n",
      "Entropy:                       -6.8200                       \n",
      "Distance:                      0.5133                        \n",
      "Elapsed Time:                  0.9438                        \n",
      "Validation Loss:               19812003840.0000              \n",
      "Validation Rec. Loss:          8.7490                        \n"
     ]
    },
    {
     "name": "stderr",
     "output_type": "stream",
     "text": [
      " 20%|██        | 2/10 [00:01<00:05,  1.50it/s, Total Loss=7.15e+7, Rec_arm_1=8.76, Rec_arm_2=8.74, Joint Loss=7.14e+7, Entropy=-6.96, Distance=0.484, Elapsed Time=0.469, Validation Loss=2.59e+10, Validation Rec. Loss=8.67]"
     ]
    },
    {
     "name": "stdout",
     "output_type": "stream",
     "text": [
      "           -- EPOCH 1 --           \n",
      "Total Loss:                    71481054.0000                 \n",
      "Rec_arm_1:                     8.7551                        \n",
      "Rec_arm_2:                     8.7384                        \n",
      "Joint Loss:                    71393024.0000                 \n",
      "Entropy:                       -6.9623                       \n",
      "Distance:                      0.4839                        \n",
      "Elapsed Time:                  0.4693                        \n",
      "Validation Loss:               25910358016.0000              \n",
      "Validation Rec. Loss:          8.6732                        \n"
     ]
    },
    {
     "name": "stderr",
     "output_type": "stream",
     "text": [
      " 30%|███       | 3/10 [00:01<00:04,  1.74it/s, Total Loss=3.83e+7, Rec_arm_1=8.67, Rec_arm_2=8.63, Joint Loss=3.82e+7, Entropy=-7.11, Distance=0.468, Elapsed Time=0.465, Validation Loss=2.5e+10, Validation Rec. Loss=8.53] "
     ]
    },
    {
     "name": "stdout",
     "output_type": "stream",
     "text": [
      "           -- EPOCH 2 --           \n",
      "Total Loss:                    38269001.0000                 \n",
      "Rec_arm_1:                     8.6707                        \n",
      "Rec_arm_2:                     8.6306                        \n",
      "Joint Loss:                    38181940.0000                 \n",
      "Entropy:                       -7.1136                       \n",
      "Distance:                      0.4680                        \n",
      "Elapsed Time:                  0.4653                        \n",
      "Validation Loss:               25026070528.0000              \n",
      "Validation Rec. Loss:          8.5306                        \n"
     ]
    },
    {
     "name": "stderr",
     "output_type": "stream",
     "text": [
      " 40%|████      | 4/10 [00:02<00:03,  1.87it/s, Total Loss=2.35e+7, Rec_arm_1=8.51, Rec_arm_2=8.42, Joint Loss=2.34e+7, Entropy=-7.23, Distance=0.455, Elapsed Time=0.473, Validation Loss=2.39e+10, Validation Rec. Loss=8.26]"
     ]
    },
    {
     "name": "stdout",
     "output_type": "stream",
     "text": [
      "           -- EPOCH 3 --           \n",
      "Total Loss:                    23461117.0000                 \n",
      "Rec_arm_1:                     8.5125                        \n",
      "Rec_arm_2:                     8.4234                        \n",
      "Joint Loss:                    23375896.0000                 \n",
      "Entropy:                       -7.2337                       \n",
      "Distance:                      0.4553                        \n",
      "Elapsed Time:                  0.4726                        \n",
      "Validation Loss:               23899086848.0000              \n",
      "Validation Rec. Loss:          8.2605                        \n"
     ]
    },
    {
     "name": "stderr",
     "output_type": "stream",
     "text": [
      " 50%|█████     | 5/10 [00:03<00:03,  1.64it/s, Total Loss=1.69e+7, Rec_arm_1=8.22, Rec_arm_2=8.04, Joint Loss=1.68e+7, Entropy=-7.33, Distance=0.446, Elapsed Time=0.736, Validation Loss=2.26e+10, Validation Rec. Loss=7.77]"
     ]
    },
    {
     "name": "stdout",
     "output_type": "stream",
     "text": [
      "           -- EPOCH 4 --           \n",
      "Total Loss:                    16900663.2500                 \n",
      "Rec_arm_1:                     8.2216                        \n",
      "Rec_arm_2:                     8.0354                        \n",
      "Joint Loss:                    16818858.0000                 \n",
      "Entropy:                       -7.3337                       \n",
      "Distance:                      0.4458                        \n",
      "Elapsed Time:                  0.7360                        \n",
      "Validation Loss:               22597525504.0000              \n",
      "Validation Rec. Loss:          7.7666                        \n"
     ]
    },
    {
     "name": "stderr",
     "output_type": "stream",
     "text": [
      " 60%|██████    | 6/10 [00:03<00:02,  1.78it/s, Total Loss=1.24e+7, Rec_arm_1=7.71, Rec_arm_2=7.35, Joint Loss=1.24e+7, Entropy=-7.36, Distance=0.444, Elapsed Time=0.466, Validation Loss=2.26e+10, Validation Rec. Loss=6.94]"
     ]
    },
    {
     "name": "stdout",
     "output_type": "stream",
     "text": [
      "           -- EPOCH 5 --           \n",
      "Total Loss:                    12439736.7500                 \n",
      "Rec_arm_1:                     7.7065                        \n",
      "Rec_arm_2:                     7.3522                        \n",
      "Joint Loss:                    12363961.0000                 \n",
      "Entropy:                       -7.3568                       \n",
      "Distance:                      0.4436                        \n",
      "Elapsed Time:                  0.4658                        \n",
      "Validation Loss:               22570041344.0000              \n",
      "Validation Rec. Loss:          6.9416                        \n"
     ]
    },
    {
     "name": "stderr",
     "output_type": "stream",
     "text": [
      " 70%|███████   | 7/10 [00:04<00:01,  1.88it/s, Total Loss=9.6e+6, Rec_arm_1=6.86, Rec_arm_2=6.29, Joint Loss=9.53e+6, Entropy=-7.42, Distance=0.437, Elapsed Time=0.469, Validation Loss=2.31e+10, Validation Rec. Loss=5.75] "
     ]
    },
    {
     "name": "stdout",
     "output_type": "stream",
     "text": [
      "           -- EPOCH 6 --           \n",
      "Total Loss:                    9596163.2500                  \n",
      "Rec_arm_1:                     6.8626                        \n",
      "Rec_arm_2:                     6.2879                        \n",
      "Joint Loss:                    9529990.0000                  \n",
      "Entropy:                       -7.4152                       \n",
      "Distance:                      0.4365                        \n",
      "Elapsed Time:                  0.4693                        \n",
      "Validation Loss:               23116150784.0000              \n",
      "Validation Rec. Loss:          5.7474                        \n"
     ]
    },
    {
     "name": "stderr",
     "output_type": "stream",
     "text": [
      " 80%|████████  | 8/10 [00:04<00:01,  1.88it/s, Total Loss=7.34e+6, Rec_arm_1=5.66, Rec_arm_2=5, Joint Loss=7.29e+6, Entropy=-7.45, Distance=0.433, Elapsed Time=0.533, Validation Loss=2.24e+10, Validation Rec. Loss=4.54]  "
     ]
    },
    {
     "name": "stdout",
     "output_type": "stream",
     "text": [
      "           -- EPOCH 7 --           \n",
      "Total Loss:                    7341423.0000                  \n",
      "Rec_arm_1:                     5.6580                        \n",
      "Rec_arm_2:                     4.9977                        \n",
      "Joint Loss:                    7287803.0000                  \n",
      "Entropy:                       -7.4505                       \n",
      "Distance:                      0.4330                        \n",
      "Elapsed Time:                  0.5334                        \n",
      "Validation Loss:               22374895616.0000              \n",
      "Validation Rec. Loss:          4.5392                        \n"
     ]
    },
    {
     "name": "stderr",
     "output_type": "stream",
     "text": [
      " 90%|█████████ | 9/10 [00:05<00:00,  1.57it/s, Total Loss=6.75e+6, Rec_arm_1=4.43, Rec_arm_2=4.3, Joint Loss=6.71e+6, Entropy=-7.5, Distance=0.423, Elapsed Time=0.86, Validation Loss=2.09e+10, Validation Rec. Loss=4.22]"
     ]
    },
    {
     "name": "stdout",
     "output_type": "stream",
     "text": [
      "           -- EPOCH 8 --           \n",
      "Total Loss:                    6752244.6250                  \n",
      "Rec_arm_1:                     4.4336                        \n",
      "Rec_arm_2:                     4.2963                        \n",
      "Joint Loss:                    6708315.0000                  \n",
      "Entropy:                       -7.4996                       \n",
      "Distance:                      0.4225                        \n",
      "Elapsed Time:                  0.8601                        \n",
      "Validation Loss:               20890984448.0000              \n",
      "Validation Rec. Loss:          4.2198                        \n"
     ]
    },
    {
     "name": "stderr",
     "output_type": "stream",
     "text": [
      "100%|██████████| 10/10 [00:05<00:00,  1.69it/s, Total Loss=5.58e+6, Rec_arm_1=4.06, Rec_arm_2=4.25, Joint Loss=5.53e+6, Entropy=-7.54, Distance=0.423, Elapsed Time=0.47, Validation Loss=2e+10, Validation Rec. Loss=4.14]"
     ]
    },
    {
     "name": "stdout",
     "output_type": "stream",
     "text": [
      "           -- EPOCH 9 --           \n",
      "Total Loss:                    5576656.6250                  \n",
      "Rec_arm_1:                     4.0647                        \n",
      "Rec_arm_2:                     4.2469                        \n",
      "Joint Loss:                    5534832.5000                  \n",
      "Entropy:                       -7.5353                       \n",
      "Distance:                      0.4233                        \n",
      "Elapsed Time:                  0.4701                        \n",
      "Validation Loss:               19991003136.0000              \n",
      "Validation Rec. Loss:          4.1372                        \n"
     ]
    },
    {
     "name": "stderr",
     "output_type": "stream",
     "text": [
      "\n"
     ]
    },
    {
     "name": "stdout",
     "output_type": "stream",
     "text": [
      "Continue training with pruning ...\n",
      "Pruned categories: [1]\n"
     ]
    },
    {
     "name": "stderr",
     "output_type": "stream",
     "text": [
      " 20%|██        | 1/5 [00:00<00:02,  2.00it/s, Total Loss=5.04e+6, Rec_arm_1=3.91, Rec_arm_2=3.75, Joint Loss=5e+6, Entropy=-7.55, Distance=0.423, Elapsed Time=0.499, Validation Loss=1.9e+10, Validation Rec. Loss=3.63]"
     ]
    },
    {
     "name": "stdout",
     "output_type": "stream",
     "text": [
      "           -- EPOCH 0 --           \n",
      "Total Loss:                    5035232.2500                  \n",
      "Rec_arm_1:                     3.9061                        \n",
      "Rec_arm_2:                     3.7475                        \n",
      "Joint Loss:                    4996719.0000                  \n",
      "Entropy:                       -7.5505                       \n",
      "Distance:                      0.4229                        \n",
      "Elapsed Time:                  0.4990                        \n",
      "Validation Loss:               18995996672.0000              \n",
      "Validation Rec. Loss:          3.6262                        \n"
     ]
    },
    {
     "name": "stderr",
     "output_type": "stream",
     "text": [
      " 40%|████      | 2/5 [00:01<00:01,  1.52it/s, Total Loss=4.35e+6, Rec_arm_1=3.43, Rec_arm_2=3.56, Joint Loss=4.31e+6, Entropy=-7.58, Distance=0.418, Elapsed Time=0.762, Validation Loss=1.84e+10, Validation Rec. Loss=3.44]"
     ]
    },
    {
     "name": "stdout",
     "output_type": "stream",
     "text": [
      "           -- EPOCH 1 --           \n",
      "Total Loss:                    4346429.7500                  \n",
      "Rec_arm_1:                     3.4303                        \n",
      "Rec_arm_2:                     3.5615                        \n",
      "Joint Loss:                    4311246.5000                  \n",
      "Entropy:                       -7.5817                       \n",
      "Distance:                      0.4178                        \n",
      "Elapsed Time:                  0.7618                        \n",
      "Validation Loss:               18447450112.0000              \n",
      "Validation Rec. Loss:          3.4425                        \n"
     ]
    },
    {
     "name": "stderr",
     "output_type": "stream",
     "text": [
      " 60%|██████    | 3/5 [00:01<00:01,  1.64it/s, Total Loss=4.22e+6, Rec_arm_1=3.33, Rec_arm_2=3.54, Joint Loss=4.19e+6, Entropy=-7.62, Distance=0.418, Elapsed Time=0.548, Validation Loss=1.8e+10, Validation Rec. Loss=3.39] "
     ]
    },
    {
     "name": "stdout",
     "output_type": "stream",
     "text": [
      "           -- EPOCH 2 --           \n",
      "Total Loss:                    4221521.7500                  \n",
      "Rec_arm_1:                     3.3278                        \n",
      "Rec_arm_2:                     3.5443                        \n",
      "Joint Loss:                    4186941.2500                  \n",
      "Entropy:                       -7.6183                       \n",
      "Distance:                      0.4182                        \n",
      "Elapsed Time:                  0.5483                        \n",
      "Validation Loss:               17952966656.0000              \n",
      "Validation Rec. Loss:          3.3890                        \n"
     ]
    },
    {
     "name": "stderr",
     "output_type": "stream",
     "text": [
      " 80%|████████  | 4/5 [00:02<00:00,  1.71it/s, Total Loss=3.69e+6, Rec_arm_1=3.3, Rec_arm_2=3.47, Joint Loss=3.66e+6, Entropy=-7.62, Distance=0.412, Elapsed Time=0.546, Validation Loss=1.69e+10, Validation Rec. Loss=3.33]"
     ]
    },
    {
     "name": "stdout",
     "output_type": "stream",
     "text": [
      "           -- EPOCH 3 --           \n",
      "Total Loss:                    3691101.8750                  \n",
      "Rec_arm_1:                     3.2962                        \n",
      "Rec_arm_2:                     3.4684                        \n",
      "Joint Loss:                    3657062.2500                  \n",
      "Entropy:                       -7.6197                       \n",
      "Distance:                      0.4116                        \n",
      "Elapsed Time:                  0.5464                        \n",
      "Validation Loss:               16942145536.0000              \n",
      "Validation Rec. Loss:          3.3310                        \n"
     ]
    },
    {
     "name": "stderr",
     "output_type": "stream",
     "text": [
      "100%|██████████| 5/5 [00:02<00:00,  1.70it/s, Total Loss=3.6e+6, Rec_arm_1=3.22, Rec_arm_2=3.44, Joint Loss=3.56e+6, Entropy=-7.64, Distance=0.412, Elapsed Time=0.56, Validation Loss=1.6e+10, Validation Rec. Loss=3.33]  "
     ]
    },
    {
     "name": "stdout",
     "output_type": "stream",
     "text": [
      "           -- EPOCH 4 --           \n",
      "Total Loss:                    3596937.8750                  \n",
      "Rec_arm_1:                     3.2177                        \n",
      "Rec_arm_2:                     3.4383                        \n",
      "Joint Loss:                    3563444.0000                  \n",
      "Entropy:                       -7.6351                       \n",
      "Distance:                      0.4121                        \n",
      "Elapsed Time:                  0.5600                        \n",
      "Validation Loss:               16008756224.0000              \n",
      "Validation Rec. Loss:          3.3345                        \n"
     ]
    },
    {
     "name": "stderr",
     "output_type": "stream",
     "text": [
      "\n"
     ]
    },
    {
     "name": "stdout",
     "output_type": "stream",
     "text": [
      "Continue training with pruning ...\n",
      "Pruned categories: [1 2]\n"
     ]
    },
    {
     "name": "stderr",
     "output_type": "stream",
     "text": [
      " 20%|██        | 1/5 [00:00<00:01,  2.04it/s, Total Loss=3.4e+6, Rec_arm_1=3.2, Rec_arm_2=3.43, Joint Loss=3.37e+6, Entropy=-7.62, Distance=0.41, Elapsed Time=0.489, Validation Loss=1.48e+10, Validation Rec. Loss=3.34]"
     ]
    },
    {
     "name": "stdout",
     "output_type": "stream",
     "text": [
      "           -- EPOCH 0 --           \n",
      "Total Loss:                    3399608.1875                  \n",
      "Rec_arm_1:                     3.1951                        \n",
      "Rec_arm_2:                     3.4345                        \n",
      "Joint Loss:                    3366247.7500                  \n",
      "Entropy:                       -7.6223                       \n",
      "Distance:                      0.4105                        \n",
      "Elapsed Time:                  0.4888                        \n",
      "Validation Loss:               14773789696.0000              \n",
      "Validation Rec. Loss:          3.3356                        \n"
     ]
    },
    {
     "name": "stderr",
     "output_type": "stream",
     "text": [
      " 40%|████      | 2/5 [00:00<00:01,  2.06it/s, Total Loss=3.11e+6, Rec_arm_1=3.18, Rec_arm_2=3.4, Joint Loss=3.07e+6, Entropy=-7.63, Distance=0.415, Elapsed Time=0.479, Validation Loss=1.35e+10, Validation Rec. Loss=3.29]"
     ]
    },
    {
     "name": "stdout",
     "output_type": "stream",
     "text": [
      "           -- EPOCH 1 --           \n",
      "Total Loss:                    3107735.1875                  \n",
      "Rec_arm_1:                     3.1847                        \n",
      "Rec_arm_2:                     3.3950                        \n",
      "Joint Loss:                    3074625.7500                  \n",
      "Entropy:                       -7.6286                       \n",
      "Distance:                      0.4151                        \n",
      "Elapsed Time:                  0.4791                        \n",
      "Validation Loss:               13520855040.0000              \n",
      "Validation Rec. Loss:          3.2950                        \n"
     ]
    },
    {
     "name": "stderr",
     "output_type": "stream",
     "text": [
      " 60%|██████    | 3/5 [00:01<00:01,  1.63it/s, Total Loss=2.93e+6, Rec_arm_1=3.15, Rec_arm_2=3.38, Joint Loss=2.9e+6, Entropy=-7.64, Distance=0.409, Elapsed Time=0.763, Validation Loss=1.29e+10, Validation Rec. Loss=3.27]"
     ]
    },
    {
     "name": "stdout",
     "output_type": "stream",
     "text": [
      "           -- EPOCH 2 --           \n",
      "Total Loss:                    2931390.5625                  \n",
      "Rec_arm_1:                     3.1476                        \n",
      "Rec_arm_2:                     3.3765                        \n",
      "Joint Loss:                    2898560.5000                  \n",
      "Entropy:                       -7.6435                       \n",
      "Distance:                      0.4095                        \n",
      "Elapsed Time:                  0.7627                        \n",
      "Validation Loss:               12892220416.0000              \n",
      "Validation Rec. Loss:          3.2663                        \n"
     ]
    },
    {
     "name": "stderr",
     "output_type": "stream",
     "text": [
      " 80%|████████  | 4/5 [00:02<00:00,  1.77it/s, Total Loss=2.99e+6, Rec_arm_1=3.13, Rec_arm_2=3.37, Joint Loss=2.96e+6, Entropy=-7.66, Distance=0.408, Elapsed Time=0.486, Validation Loss=1.22e+10, Validation Rec. Loss=3.25]"
     ]
    },
    {
     "name": "stdout",
     "output_type": "stream",
     "text": [
      "           -- EPOCH 3 --           \n",
      "Total Loss:                    2993743.8750                  \n",
      "Rec_arm_1:                     3.1343                        \n",
      "Rec_arm_2:                     3.3677                        \n",
      "Joint Loss:                    2961025.2500                  \n",
      "Entropy:                       -7.6569                       \n",
      "Distance:                      0.4081                        \n",
      "Elapsed Time:                  0.4856                        \n",
      "Validation Loss:               12197145600.0000              \n",
      "Validation Rec. Loss:          3.2504                        \n"
     ]
    },
    {
     "name": "stderr",
     "output_type": "stream",
     "text": [
      "100%|██████████| 5/5 [00:02<00:00,  1.85it/s, Total Loss=2.7e+6, Rec_arm_1=3.13, Rec_arm_2=3.36, Joint Loss=2.66e+6, Entropy=-7.67, Distance=0.409, Elapsed Time=0.481, Validation Loss=1.17e+10, Validation Rec. Loss=3.24] "
     ]
    },
    {
     "name": "stdout",
     "output_type": "stream",
     "text": [
      "           -- EPOCH 4 --           \n",
      "Total Loss:                    2697108.5000                  \n",
      "Rec_arm_1:                     3.1282                        \n",
      "Rec_arm_2:                     3.3559                        \n",
      "Joint Loss:                    2664480.0000                  \n",
      "Entropy:                       -7.6653                       \n",
      "Distance:                      0.4091                        \n",
      "Elapsed Time:                  0.4805                        \n",
      "Validation Loss:               11679062016.0000              \n",
      "Validation Rec. Loss:          3.2436                        \n"
     ]
    },
    {
     "name": "stderr",
     "output_type": "stream",
     "text": [
      "\n"
     ]
    },
    {
     "name": "stdout",
     "output_type": "stream",
     "text": [
      "No more pruning!\n",
      "Training is done!\n"
     ]
    }
   ],
   "source": [
    "importlib.reload(mmidas.cpl_mixvae)\n",
    "importlib.reload(mmidas.nn_model)\n",
    "from mmidas.cpl_mixvae import cpl_mixVAE\n",
    "\n",
    "cplMixVAE = cpl_mixVAE(saving_folder=saving_folder, device='cuda', seed=546)\n",
    "cplMixVAE.init(categories=n_categories,\n",
    "                     state_dim=state_dim,\n",
    "                     input_dim=data['log1p'].shape[1],\n",
    "                     lowD_dim=latent_dim,\n",
    "                     lr=lr,\n",
    "                     arms=n_arm)\n",
    "\n",
    "model_file = cplMixVAE.train(train_loader=trainloader,\n",
    "                             test_loader=testloader,\n",
    "                             n_epoch=n_epoch,\n",
    "                             n_epoch_p=n_epoch_p,\n",
    "                             min_con=min_con,\n",
    "                             max_prun_it=max_prun_it)"
   ]
  },
  {
   "cell_type": "code",
   "execution_count": 15,
   "metadata": {},
   "outputs": [
    {
     "data": {
      "text/plain": [
       "<module 'mmidas.nn_model' from '/allen/programs/celltypes/workgroups/mousecelltypes/Hilal/MMIDAS/mmidas/nn_model.py'>"
      ]
     },
     "execution_count": 15,
     "metadata": {},
     "output_type": "execute_result"
    }
   ],
   "source": [
    "importlib.reload(mmidas.cpl_mixvae)\n",
    "importlib.reload(mmidas.nn_model)"
   ]
  },
  {
   "cell_type": "code",
   "execution_count": 16,
   "metadata": {},
   "outputs": [
    {
     "name": "stdout",
     "output_type": "stream",
     "text": [
      "warning: setting seed 546\n",
      "device: Tesla V100-SXM2-32GB\n"
     ]
    },
    {
     "name": "stderr",
     "output_type": "stream",
     "text": [
      "  0%|          | 0/10 [00:03<?, ?it/s]\n"
     ]
    },
    {
     "ename": "BackendCompilerFailed",
     "evalue": "backend='inductor' raised:\nLoweringException: ImportError: cannot import name 'add_external_libs' from 'triton._C.libtriton.triton' (unknown location)\n  target: aten.addmm.default\n  args[0]: TensorBox(StorageBox(\n    InputBuffer(name='primals_2', layout=FixedLayout('cuda', torch.float32, size=[100], stride=[1]))\n  ))\n  args[1]: TensorBox(StorageBox(\n    ComputedBuffer(name='buf2', layout=FixedLayout('cuda', torch.float32, size=[5000, 5032], stride=[5032, 1]), data=Pointwise(\n      'cuda',\n      torch.float32,\n      def inner_fn(index):\n          i0, i1 = index\n          tmp0 = ops.load(buf1, i1 + 5032 * i0)\n          tmp1 = ops.constant(0.5, torch.float32)\n          tmp2 = tmp0 > tmp1\n          tmp3 = ops.to_dtype(tmp2, torch.float32)\n          tmp4 = ops.load(primals_87, i1 + 5032 * i0)\n          tmp5 = tmp3 * tmp4\n          tmp6 = ops.constant(2.0, torch.float32)\n          tmp7 = tmp5 * tmp6\n          return tmp7\n      ,\n      ranges=[5000, 5032],\n      origin_node=mul_1,\n      origins={gt, mul_1, mul}\n    ))\n  ))\n  args[2]: TensorBox(\n    ReinterpretView(\n      StorageBox(\n        InputBuffer(name='primals_1', layout=FixedLayout('cuda', torch.float32, size=[100, 5032], stride=[5032, 1]))\n      ),\n      FixedLayout('cuda', torch.float32, size=[5032, 100], stride=[1, 5032]),\n      origins={permute}\n    )\n  )\n\nSet TORCH_LOGS=\"+dynamo\" and TORCHDYNAMO_VERBOSE=1 for more information\n\n\nYou can suppress this exception and fall back to eager by setting:\n    import torch._dynamo\n    torch._dynamo.config.suppress_errors = True\n",
     "output_type": "error",
     "traceback": [
      "\u001b[0;31m---------------------------------------------------------------------------\u001b[0m",
      "\u001b[0;31mBackendCompilerFailed\u001b[0m                     Traceback (most recent call last)",
      "Cell \u001b[0;32mIn[16], line 13\u001b[0m\n\u001b[1;32m      5\u001b[0m cplMixVAE \u001b[38;5;241m=\u001b[39m cpl_mixVAE(saving_folder\u001b[38;5;241m=\u001b[39msaving_folder, device\u001b[38;5;241m=\u001b[39m\u001b[38;5;124m'\u001b[39m\u001b[38;5;124mcuda\u001b[39m\u001b[38;5;124m'\u001b[39m, seed\u001b[38;5;241m=\u001b[39m\u001b[38;5;241m546\u001b[39m)\n\u001b[1;32m      6\u001b[0m cplMixVAE\u001b[38;5;241m.\u001b[39minit(categories\u001b[38;5;241m=\u001b[39mn_categories,\n\u001b[1;32m      7\u001b[0m                      state_dim\u001b[38;5;241m=\u001b[39mstate_dim,\n\u001b[1;32m      8\u001b[0m                      input_dim\u001b[38;5;241m=\u001b[39mdata[\u001b[38;5;124m'\u001b[39m\u001b[38;5;124mlog1p\u001b[39m\u001b[38;5;124m'\u001b[39m]\u001b[38;5;241m.\u001b[39mshape[\u001b[38;5;241m1\u001b[39m],\n\u001b[1;32m      9\u001b[0m                      lowD_dim\u001b[38;5;241m=\u001b[39mlatent_dim,\n\u001b[1;32m     10\u001b[0m                      lr\u001b[38;5;241m=\u001b[39mlr,\n\u001b[1;32m     11\u001b[0m                      arms\u001b[38;5;241m=\u001b[39mn_arm,)\n\u001b[0;32m---> 13\u001b[0m fsdp_dct \u001b[38;5;241m=\u001b[39m \u001b[43mcplMixVAE\u001b[49m\u001b[38;5;241;43m.\u001b[39;49m\u001b[43m_fsdp\u001b[49m\u001b[43m(\u001b[49m\u001b[43mtrain_loader\u001b[49m\u001b[38;5;241;43m=\u001b[39;49m\u001b[43mtrainloader\u001b[49m\u001b[43m,\u001b[49m\n\u001b[1;32m     14\u001b[0m \u001b[43m                           \u001b[49m\u001b[43mval_loader\u001b[49m\u001b[38;5;241;43m=\u001b[39;49m\u001b[43mtestloader\u001b[49m\u001b[43m,\u001b[49m\n\u001b[1;32m     15\u001b[0m \u001b[43m                           \u001b[49m\u001b[43mepochs\u001b[49m\u001b[38;5;241;43m=\u001b[39;49m\u001b[43mn_epoch\u001b[49m\u001b[43m,\u001b[49m\n\u001b[1;32m     16\u001b[0m \u001b[43m                           \u001b[49m\u001b[43mn_epoch_p\u001b[49m\u001b[38;5;241;43m=\u001b[39;49m\u001b[43mn_epoch_p\u001b[49m\u001b[43m,\u001b[49m\n\u001b[1;32m     17\u001b[0m \u001b[43m                           \u001b[49m\u001b[43mmin_con\u001b[49m\u001b[38;5;241;43m=\u001b[39;49m\u001b[43mmin_con\u001b[49m\u001b[43m,\u001b[49m\n\u001b[1;32m     18\u001b[0m \u001b[43m                           \u001b[49m\u001b[43mmax_prun_it\u001b[49m\u001b[38;5;241;43m=\u001b[39;49m\u001b[43mmax_prun_it\u001b[49m\u001b[43m,\u001b[49m\n\u001b[1;32m     19\u001b[0m \u001b[43m                           \u001b[49m\u001b[43mdevice\u001b[49m\u001b[38;5;241;43m=\u001b[39;49m\u001b[43mcplMixVAE\u001b[49m\u001b[38;5;241;43m.\u001b[39;49m\u001b[43mdevice\u001b[49m\u001b[43m,\u001b[49m\n\u001b[1;32m     20\u001b[0m \u001b[43m                           \u001b[49m\u001b[43mmodel\u001b[49m\u001b[38;5;241;43m=\u001b[39;49m\u001b[43mcplMixVAE\u001b[49m\u001b[38;5;241;43m.\u001b[39;49m\u001b[43mmodel\u001b[49m\u001b[43m,\u001b[49m\n\u001b[1;32m     21\u001b[0m \u001b[43m                           \u001b[49m\u001b[43mopt\u001b[49m\u001b[38;5;241;43m=\u001b[39;49m\u001b[43mcplMixVAE\u001b[49m\u001b[38;5;241;43m.\u001b[39;49m\u001b[43moptimizer\u001b[49m\u001b[43m)\u001b[49m\n",
      "File \u001b[0;32m/allen/programs/celltypes/workgroups/mousecelltypes/Hilal/MMIDAS/mmidas/cpl_mixvae.py:1210\u001b[0m, in \u001b[0;36mcpl_mixVAE._fsdp\u001b[0;34m(self, model, train_loader, val_loader, epochs, n_epoch_p, opt, device, c_p, c_onehot, min_con, max_prun_it, rank, world_size, sampler)\u001b[0m\n\u001b[1;32m   1207\u001b[0m     prior_c \u001b[38;5;241m=\u001b[39m \u001b[38;5;241m0.0\u001b[39m\n\u001b[1;32m   1209\u001b[0m opt\u001b[38;5;241m.\u001b[39mzero_grad()\n\u001b[0;32m-> 1210\u001b[0m recon_batch, p_x, r_x, x_low, qc, s, c, mu, log_var, log_qc \u001b[38;5;241m=\u001b[39m \u001b[43mmodel\u001b[49m\u001b[43m(\u001b[49m\u001b[43mx\u001b[49m\u001b[38;5;241;43m=\u001b[39;49m\u001b[43mtrans_data\u001b[49m\u001b[43m,\u001b[49m\u001b[43m \u001b[49m\u001b[43mtemp\u001b[49m\u001b[38;5;241;43m=\u001b[39;49m\u001b[38;5;28;43mself\u001b[39;49m\u001b[38;5;241;43m.\u001b[39;49m\u001b[43mtemp\u001b[49m\u001b[43m,\u001b[49m\u001b[43m \u001b[49m\u001b[43mprior_c\u001b[49m\u001b[38;5;241;43m=\u001b[39;49m\u001b[43mprior_c\u001b[49m\u001b[43m)\u001b[49m\n\u001b[1;32m   1211\u001b[0m _out \u001b[38;5;241m=\u001b[39m loss_fn(x\u001b[38;5;241m=\u001b[39mtrans_data, x_rec\u001b[38;5;241m=\u001b[39mrecon_batch, x_succ\u001b[38;5;241m=\u001b[39mp_x, x_disp\u001b[38;5;241m=\u001b[39mr_x, s_mean\u001b[38;5;241m=\u001b[39mmu, s_logvar\u001b[38;5;241m=\u001b[39mlog_var, c_pdf\u001b[38;5;241m=\u001b[39mqc, c_samp\u001b[38;5;241m=\u001b[39mc, c_prior\u001b[38;5;241m=\u001b[39mc_bin, A\u001b[38;5;241m=\u001b[39m\u001b[38;5;28mself\u001b[39m\u001b[38;5;241m.\u001b[39marms, mode\u001b[38;5;241m=\u001b[39m\u001b[38;5;28mself\u001b[39m\u001b[38;5;241m.\u001b[39mmode, is_var\u001b[38;5;241m=\u001b[39m\u001b[38;5;28mself\u001b[39m\u001b[38;5;241m.\u001b[39mis_var, beta\u001b[38;5;241m=\u001b[39m\u001b[38;5;28mself\u001b[39m\u001b[38;5;241m.\u001b[39mbeta, eps\u001b[38;5;241m=\u001b[39m\u001b[38;5;28mself\u001b[39m\u001b[38;5;241m.\u001b[39meps, C\u001b[38;5;241m=\u001b[39m\u001b[38;5;28mself\u001b[39m\u001b[38;5;241m.\u001b[39mcategories, lam\u001b[38;5;241m=\u001b[39m\u001b[38;5;28mself\u001b[39m\u001b[38;5;241m.\u001b[39mlam, lam_pc\u001b[38;5;241m=\u001b[39m\u001b[38;5;28mself\u001b[39m\u001b[38;5;241m.\u001b[39mlam_pc, pri\u001b[38;5;241m=\u001b[39m\u001b[38;5;28mself\u001b[39m\u001b[38;5;241m.\u001b[39mref_prior, device\u001b[38;5;241m=\u001b[39mdevice)\n\u001b[1;32m   1212\u001b[0m loss, loss_rec, loss_joint, entropy, dist_c, d_qc, KLD_cont, min_var_0, loglikelihood \u001b[38;5;241m=\u001b[39m _out\n",
      "File \u001b[0;32m/allen/programs/celltypes/workgroups/mousecelltypes/Hilal/miniconda3/envs/mmidas/lib/python3.10/site-packages/torch/nn/modules/module.py:1518\u001b[0m, in \u001b[0;36mModule._wrapped_call_impl\u001b[0;34m(self, *args, **kwargs)\u001b[0m\n\u001b[1;32m   1516\u001b[0m     \u001b[38;5;28;01mreturn\u001b[39;00m \u001b[38;5;28mself\u001b[39m\u001b[38;5;241m.\u001b[39m_compiled_call_impl(\u001b[38;5;241m*\u001b[39margs, \u001b[38;5;241m*\u001b[39m\u001b[38;5;241m*\u001b[39mkwargs)  \u001b[38;5;66;03m# type: ignore[misc]\u001b[39;00m\n\u001b[1;32m   1517\u001b[0m \u001b[38;5;28;01melse\u001b[39;00m:\n\u001b[0;32m-> 1518\u001b[0m     \u001b[38;5;28;01mreturn\u001b[39;00m \u001b[38;5;28;43mself\u001b[39;49m\u001b[38;5;241;43m.\u001b[39;49m\u001b[43m_call_impl\u001b[49m\u001b[43m(\u001b[49m\u001b[38;5;241;43m*\u001b[39;49m\u001b[43margs\u001b[49m\u001b[43m,\u001b[49m\u001b[43m \u001b[49m\u001b[38;5;241;43m*\u001b[39;49m\u001b[38;5;241;43m*\u001b[39;49m\u001b[43mkwargs\u001b[49m\u001b[43m)\u001b[49m\n",
      "File \u001b[0;32m/allen/programs/celltypes/workgroups/mousecelltypes/Hilal/miniconda3/envs/mmidas/lib/python3.10/site-packages/torch/nn/modules/module.py:1527\u001b[0m, in \u001b[0;36mModule._call_impl\u001b[0;34m(self, *args, **kwargs)\u001b[0m\n\u001b[1;32m   1522\u001b[0m \u001b[38;5;66;03m# If we don't have any hooks, we want to skip the rest of the logic in\u001b[39;00m\n\u001b[1;32m   1523\u001b[0m \u001b[38;5;66;03m# this function, and just call forward.\u001b[39;00m\n\u001b[1;32m   1524\u001b[0m \u001b[38;5;28;01mif\u001b[39;00m \u001b[38;5;129;01mnot\u001b[39;00m (\u001b[38;5;28mself\u001b[39m\u001b[38;5;241m.\u001b[39m_backward_hooks \u001b[38;5;129;01mor\u001b[39;00m \u001b[38;5;28mself\u001b[39m\u001b[38;5;241m.\u001b[39m_backward_pre_hooks \u001b[38;5;129;01mor\u001b[39;00m \u001b[38;5;28mself\u001b[39m\u001b[38;5;241m.\u001b[39m_forward_hooks \u001b[38;5;129;01mor\u001b[39;00m \u001b[38;5;28mself\u001b[39m\u001b[38;5;241m.\u001b[39m_forward_pre_hooks\n\u001b[1;32m   1525\u001b[0m         \u001b[38;5;129;01mor\u001b[39;00m _global_backward_pre_hooks \u001b[38;5;129;01mor\u001b[39;00m _global_backward_hooks\n\u001b[1;32m   1526\u001b[0m         \u001b[38;5;129;01mor\u001b[39;00m _global_forward_hooks \u001b[38;5;129;01mor\u001b[39;00m _global_forward_pre_hooks):\n\u001b[0;32m-> 1527\u001b[0m     \u001b[38;5;28;01mreturn\u001b[39;00m \u001b[43mforward_call\u001b[49m\u001b[43m(\u001b[49m\u001b[38;5;241;43m*\u001b[39;49m\u001b[43margs\u001b[49m\u001b[43m,\u001b[49m\u001b[43m \u001b[49m\u001b[38;5;241;43m*\u001b[39;49m\u001b[38;5;241;43m*\u001b[39;49m\u001b[43mkwargs\u001b[49m\u001b[43m)\u001b[49m\n\u001b[1;32m   1529\u001b[0m \u001b[38;5;28;01mtry\u001b[39;00m:\n\u001b[1;32m   1530\u001b[0m     result \u001b[38;5;241m=\u001b[39m \u001b[38;5;28;01mNone\u001b[39;00m\n",
      "File \u001b[0;32m/allen/programs/celltypes/workgroups/mousecelltypes/Hilal/miniconda3/envs/mmidas/lib/python3.10/site-packages/torch/_dynamo/eval_frame.py:328\u001b[0m, in \u001b[0;36m_TorchDynamoContext.__call__.<locals>._fn\u001b[0;34m(*args, **kwargs)\u001b[0m\n\u001b[1;32m    326\u001b[0m dynamic_ctx\u001b[38;5;241m.\u001b[39m\u001b[38;5;21m__enter__\u001b[39m()\n\u001b[1;32m    327\u001b[0m \u001b[38;5;28;01mtry\u001b[39;00m:\n\u001b[0;32m--> 328\u001b[0m     \u001b[38;5;28;01mreturn\u001b[39;00m \u001b[43mfn\u001b[49m\u001b[43m(\u001b[49m\u001b[38;5;241;43m*\u001b[39;49m\u001b[43margs\u001b[49m\u001b[43m,\u001b[49m\u001b[43m \u001b[49m\u001b[38;5;241;43m*\u001b[39;49m\u001b[38;5;241;43m*\u001b[39;49m\u001b[43mkwargs\u001b[49m\u001b[43m)\u001b[49m\n\u001b[1;32m    329\u001b[0m \u001b[38;5;28;01mfinally\u001b[39;00m:\n\u001b[1;32m    330\u001b[0m     set_eval_frame(prior)\n",
      "File \u001b[0;32m/allen/programs/celltypes/workgroups/mousecelltypes/Hilal/miniconda3/envs/mmidas/lib/python3.10/site-packages/torch/nn/modules/module.py:1518\u001b[0m, in \u001b[0;36mModule._wrapped_call_impl\u001b[0;34m(self, *args, **kwargs)\u001b[0m\n\u001b[1;32m   1516\u001b[0m     \u001b[38;5;28;01mreturn\u001b[39;00m \u001b[38;5;28mself\u001b[39m\u001b[38;5;241m.\u001b[39m_compiled_call_impl(\u001b[38;5;241m*\u001b[39margs, \u001b[38;5;241m*\u001b[39m\u001b[38;5;241m*\u001b[39mkwargs)  \u001b[38;5;66;03m# type: ignore[misc]\u001b[39;00m\n\u001b[1;32m   1517\u001b[0m \u001b[38;5;28;01melse\u001b[39;00m:\n\u001b[0;32m-> 1518\u001b[0m     \u001b[38;5;28;01mreturn\u001b[39;00m \u001b[38;5;28;43mself\u001b[39;49m\u001b[38;5;241;43m.\u001b[39;49m\u001b[43m_call_impl\u001b[49m\u001b[43m(\u001b[49m\u001b[38;5;241;43m*\u001b[39;49m\u001b[43margs\u001b[49m\u001b[43m,\u001b[49m\u001b[43m \u001b[49m\u001b[38;5;241;43m*\u001b[39;49m\u001b[38;5;241;43m*\u001b[39;49m\u001b[43mkwargs\u001b[49m\u001b[43m)\u001b[49m\n",
      "File \u001b[0;32m/allen/programs/celltypes/workgroups/mousecelltypes/Hilal/miniconda3/envs/mmidas/lib/python3.10/site-packages/torch/nn/modules/module.py:1527\u001b[0m, in \u001b[0;36mModule._call_impl\u001b[0;34m(self, *args, **kwargs)\u001b[0m\n\u001b[1;32m   1522\u001b[0m \u001b[38;5;66;03m# If we don't have any hooks, we want to skip the rest of the logic in\u001b[39;00m\n\u001b[1;32m   1523\u001b[0m \u001b[38;5;66;03m# this function, and just call forward.\u001b[39;00m\n\u001b[1;32m   1524\u001b[0m \u001b[38;5;28;01mif\u001b[39;00m \u001b[38;5;129;01mnot\u001b[39;00m (\u001b[38;5;28mself\u001b[39m\u001b[38;5;241m.\u001b[39m_backward_hooks \u001b[38;5;129;01mor\u001b[39;00m \u001b[38;5;28mself\u001b[39m\u001b[38;5;241m.\u001b[39m_backward_pre_hooks \u001b[38;5;129;01mor\u001b[39;00m \u001b[38;5;28mself\u001b[39m\u001b[38;5;241m.\u001b[39m_forward_hooks \u001b[38;5;129;01mor\u001b[39;00m \u001b[38;5;28mself\u001b[39m\u001b[38;5;241m.\u001b[39m_forward_pre_hooks\n\u001b[1;32m   1525\u001b[0m         \u001b[38;5;129;01mor\u001b[39;00m _global_backward_pre_hooks \u001b[38;5;129;01mor\u001b[39;00m _global_backward_hooks\n\u001b[1;32m   1526\u001b[0m         \u001b[38;5;129;01mor\u001b[39;00m _global_forward_hooks \u001b[38;5;129;01mor\u001b[39;00m _global_forward_pre_hooks):\n\u001b[0;32m-> 1527\u001b[0m     \u001b[38;5;28;01mreturn\u001b[39;00m \u001b[43mforward_call\u001b[49m\u001b[43m(\u001b[49m\u001b[38;5;241;43m*\u001b[39;49m\u001b[43margs\u001b[49m\u001b[43m,\u001b[49m\u001b[43m \u001b[49m\u001b[38;5;241;43m*\u001b[39;49m\u001b[38;5;241;43m*\u001b[39;49m\u001b[43mkwargs\u001b[49m\u001b[43m)\u001b[49m\n\u001b[1;32m   1529\u001b[0m \u001b[38;5;28;01mtry\u001b[39;00m:\n\u001b[1;32m   1530\u001b[0m     result \u001b[38;5;241m=\u001b[39m \u001b[38;5;28;01mNone\u001b[39;00m\n",
      "File \u001b[0;32m/allen/programs/celltypes/workgroups/mousecelltypes/Hilal/miniconda3/envs/mmidas/lib/python3.10/site-packages/torch/_dynamo/eval_frame.py:490\u001b[0m, in \u001b[0;36mcatch_errors_wrapper.<locals>.catch_errors\u001b[0;34m(frame, cache_entry, frame_state)\u001b[0m\n\u001b[1;32m    487\u001b[0m             \u001b[38;5;28;01mreturn\u001b[39;00m hijacked_callback(frame, cache_entry, hooks, frame_state)\n\u001b[1;32m    489\u001b[0m \u001b[38;5;28;01mwith\u001b[39;00m compile_lock, _disable_current_modes():\n\u001b[0;32m--> 490\u001b[0m     \u001b[38;5;28;01mreturn\u001b[39;00m \u001b[43mcallback\u001b[49m\u001b[43m(\u001b[49m\u001b[43mframe\u001b[49m\u001b[43m,\u001b[49m\u001b[43m \u001b[49m\u001b[43mcache_entry\u001b[49m\u001b[43m,\u001b[49m\u001b[43m \u001b[49m\u001b[43mhooks\u001b[49m\u001b[43m,\u001b[49m\u001b[43m \u001b[49m\u001b[43mframe_state\u001b[49m\u001b[43m)\u001b[49m\n",
      "File \u001b[0;32m/allen/programs/celltypes/workgroups/mousecelltypes/Hilal/miniconda3/envs/mmidas/lib/python3.10/site-packages/torch/_dynamo/convert_frame.py:641\u001b[0m, in \u001b[0;36mconvert_frame.<locals>._convert_frame\u001b[0;34m(frame, cache_size, hooks, frame_state)\u001b[0m\n\u001b[1;32m    639\u001b[0m counters[\u001b[38;5;124m\"\u001b[39m\u001b[38;5;124mframes\u001b[39m\u001b[38;5;124m\"\u001b[39m][\u001b[38;5;124m\"\u001b[39m\u001b[38;5;124mtotal\u001b[39m\u001b[38;5;124m\"\u001b[39m] \u001b[38;5;241m+\u001b[39m\u001b[38;5;241m=\u001b[39m \u001b[38;5;241m1\u001b[39m\n\u001b[1;32m    640\u001b[0m \u001b[38;5;28;01mtry\u001b[39;00m:\n\u001b[0;32m--> 641\u001b[0m     result \u001b[38;5;241m=\u001b[39m \u001b[43minner_convert\u001b[49m\u001b[43m(\u001b[49m\u001b[43mframe\u001b[49m\u001b[43m,\u001b[49m\u001b[43m \u001b[49m\u001b[43mcache_size\u001b[49m\u001b[43m,\u001b[49m\u001b[43m \u001b[49m\u001b[43mhooks\u001b[49m\u001b[43m,\u001b[49m\u001b[43m \u001b[49m\u001b[43mframe_state\u001b[49m\u001b[43m)\u001b[49m\n\u001b[1;32m    642\u001b[0m     counters[\u001b[38;5;124m\"\u001b[39m\u001b[38;5;124mframes\u001b[39m\u001b[38;5;124m\"\u001b[39m][\u001b[38;5;124m\"\u001b[39m\u001b[38;5;124mok\u001b[39m\u001b[38;5;124m\"\u001b[39m] \u001b[38;5;241m+\u001b[39m\u001b[38;5;241m=\u001b[39m \u001b[38;5;241m1\u001b[39m\n\u001b[1;32m    643\u001b[0m     \u001b[38;5;28;01mreturn\u001b[39;00m result\n",
      "File \u001b[0;32m/allen/programs/celltypes/workgroups/mousecelltypes/Hilal/miniconda3/envs/mmidas/lib/python3.10/site-packages/torch/_dynamo/convert_frame.py:133\u001b[0m, in \u001b[0;36mwrap_convert_context.<locals>._fn\u001b[0;34m(*args, **kwargs)\u001b[0m\n\u001b[1;32m    131\u001b[0m cleanup \u001b[38;5;241m=\u001b[39m setup_compile_debug()\n\u001b[1;32m    132\u001b[0m \u001b[38;5;28;01mtry\u001b[39;00m:\n\u001b[0;32m--> 133\u001b[0m     \u001b[38;5;28;01mreturn\u001b[39;00m \u001b[43mfn\u001b[49m\u001b[43m(\u001b[49m\u001b[38;5;241;43m*\u001b[39;49m\u001b[43margs\u001b[49m\u001b[43m,\u001b[49m\u001b[43m \u001b[49m\u001b[38;5;241;43m*\u001b[39;49m\u001b[38;5;241;43m*\u001b[39;49m\u001b[43mkwargs\u001b[49m\u001b[43m)\u001b[49m\n\u001b[1;32m    134\u001b[0m \u001b[38;5;28;01mfinally\u001b[39;00m:\n\u001b[1;32m    135\u001b[0m     cleanup\u001b[38;5;241m.\u001b[39mclose()\n",
      "File \u001b[0;32m/allen/programs/celltypes/workgroups/mousecelltypes/Hilal/miniconda3/envs/mmidas/lib/python3.10/site-packages/torch/_dynamo/convert_frame.py:389\u001b[0m, in \u001b[0;36mconvert_frame_assert.<locals>._convert_frame_assert\u001b[0;34m(frame, cache_entry, hooks, frame_state)\u001b[0m\n\u001b[1;32m    376\u001b[0m compile_id \u001b[38;5;241m=\u001b[39m CompileId(frame_id, frame_compile_id)\n\u001b[1;32m    378\u001b[0m signpost_event(\n\u001b[1;32m    379\u001b[0m     \u001b[38;5;124m\"\u001b[39m\u001b[38;5;124mdynamo\u001b[39m\u001b[38;5;124m\"\u001b[39m,\n\u001b[1;32m    380\u001b[0m     \u001b[38;5;124m\"\u001b[39m\u001b[38;5;124m_convert_frame_assert._compile\u001b[39m\u001b[38;5;124m\"\u001b[39m,\n\u001b[0;32m   (...)\u001b[0m\n\u001b[1;32m    386\u001b[0m     },\n\u001b[1;32m    387\u001b[0m )\n\u001b[0;32m--> 389\u001b[0m \u001b[38;5;28;01mreturn\u001b[39;00m \u001b[43m_compile\u001b[49m\u001b[43m(\u001b[49m\n\u001b[1;32m    390\u001b[0m \u001b[43m    \u001b[49m\u001b[43mframe\u001b[49m\u001b[38;5;241;43m.\u001b[39;49m\u001b[43mf_code\u001b[49m\u001b[43m,\u001b[49m\n\u001b[1;32m    391\u001b[0m \u001b[43m    \u001b[49m\u001b[43mframe\u001b[49m\u001b[38;5;241;43m.\u001b[39;49m\u001b[43mf_globals\u001b[49m\u001b[43m,\u001b[49m\n\u001b[1;32m    392\u001b[0m \u001b[43m    \u001b[49m\u001b[43mframe\u001b[49m\u001b[38;5;241;43m.\u001b[39;49m\u001b[43mf_locals\u001b[49m\u001b[43m,\u001b[49m\n\u001b[1;32m    393\u001b[0m \u001b[43m    \u001b[49m\u001b[43mframe\u001b[49m\u001b[38;5;241;43m.\u001b[39;49m\u001b[43mf_builtins\u001b[49m\u001b[43m,\u001b[49m\n\u001b[1;32m    394\u001b[0m \u001b[43m    \u001b[49m\u001b[43mcompiler_fn\u001b[49m\u001b[43m,\u001b[49m\n\u001b[1;32m    395\u001b[0m \u001b[43m    \u001b[49m\u001b[43mone_graph\u001b[49m\u001b[43m,\u001b[49m\n\u001b[1;32m    396\u001b[0m \u001b[43m    \u001b[49m\u001b[43mexport\u001b[49m\u001b[43m,\u001b[49m\n\u001b[1;32m    397\u001b[0m \u001b[43m    \u001b[49m\u001b[43mexport_constraints\u001b[49m\u001b[43m,\u001b[49m\n\u001b[1;32m    398\u001b[0m \u001b[43m    \u001b[49m\u001b[43mhooks\u001b[49m\u001b[43m,\u001b[49m\n\u001b[1;32m    399\u001b[0m \u001b[43m    \u001b[49m\u001b[43mcache_size\u001b[49m\u001b[43m,\u001b[49m\n\u001b[1;32m    400\u001b[0m \u001b[43m    \u001b[49m\u001b[43mframe\u001b[49m\u001b[43m,\u001b[49m\n\u001b[1;32m    401\u001b[0m \u001b[43m    \u001b[49m\u001b[43mframe_state\u001b[49m\u001b[38;5;241;43m=\u001b[39;49m\u001b[43mframe_state\u001b[49m\u001b[43m,\u001b[49m\n\u001b[1;32m    402\u001b[0m \u001b[43m    \u001b[49m\u001b[43mcompile_id\u001b[49m\u001b[38;5;241;43m=\u001b[39;49m\u001b[43mcompile_id\u001b[49m\u001b[43m,\u001b[49m\n\u001b[1;32m    403\u001b[0m \u001b[43m\u001b[49m\u001b[43m)\u001b[49m\n",
      "File \u001b[0;32m/allen/programs/celltypes/workgroups/mousecelltypes/Hilal/miniconda3/envs/mmidas/lib/python3.10/site-packages/torch/_dynamo/convert_frame.py:569\u001b[0m, in \u001b[0;36m_compile\u001b[0;34m(code, globals, locals, builtins, compiler_fn, one_graph, export, export_constraints, hooks, cache_size, frame, frame_state, compile_id)\u001b[0m\n\u001b[1;32m    567\u001b[0m \u001b[38;5;28;01mwith\u001b[39;00m compile_context(CompileContext(compile_id)):\n\u001b[1;32m    568\u001b[0m     \u001b[38;5;28;01mtry\u001b[39;00m:\n\u001b[0;32m--> 569\u001b[0m         guarded_code \u001b[38;5;241m=\u001b[39m \u001b[43mcompile_inner\u001b[49m\u001b[43m(\u001b[49m\u001b[43mcode\u001b[49m\u001b[43m,\u001b[49m\u001b[43m \u001b[49m\u001b[43mone_graph\u001b[49m\u001b[43m,\u001b[49m\u001b[43m \u001b[49m\u001b[43mhooks\u001b[49m\u001b[43m,\u001b[49m\u001b[43m \u001b[49m\u001b[43mtransform\u001b[49m\u001b[43m)\u001b[49m\n\u001b[1;32m    570\u001b[0m         \u001b[38;5;28;01mreturn\u001b[39;00m guarded_code\n\u001b[1;32m    571\u001b[0m     \u001b[38;5;28;01mexcept\u001b[39;00m (\n\u001b[1;32m    572\u001b[0m         Unsupported,\n\u001b[1;32m    573\u001b[0m         TorchRuntimeError,\n\u001b[0;32m   (...)\u001b[0m\n\u001b[1;32m    578\u001b[0m         ValidationException,\n\u001b[1;32m    579\u001b[0m     ) \u001b[38;5;28;01mas\u001b[39;00m e:\n",
      "File \u001b[0;32m/allen/programs/celltypes/workgroups/mousecelltypes/Hilal/miniconda3/envs/mmidas/lib/python3.10/site-packages/torch/_dynamo/utils.py:189\u001b[0m, in \u001b[0;36mdynamo_timed.<locals>.dynamo_timed_inner.<locals>.time_wrapper\u001b[0;34m(*args, **kwargs)\u001b[0m\n\u001b[1;32m    187\u001b[0m \u001b[38;5;28;01mwith\u001b[39;00m torch\u001b[38;5;241m.\u001b[39mprofiler\u001b[38;5;241m.\u001b[39mrecord_function(\u001b[38;5;124mf\u001b[39m\u001b[38;5;124m\"\u001b[39m\u001b[38;5;132;01m{\u001b[39;00mkey\u001b[38;5;132;01m}\u001b[39;00m\u001b[38;5;124m (dynamo_timed)\u001b[39m\u001b[38;5;124m\"\u001b[39m):\n\u001b[1;32m    188\u001b[0m     t0 \u001b[38;5;241m=\u001b[39m time\u001b[38;5;241m.\u001b[39mtime()\n\u001b[0;32m--> 189\u001b[0m     r \u001b[38;5;241m=\u001b[39m \u001b[43mfunc\u001b[49m\u001b[43m(\u001b[49m\u001b[38;5;241;43m*\u001b[39;49m\u001b[43margs\u001b[49m\u001b[43m,\u001b[49m\u001b[43m \u001b[49m\u001b[38;5;241;43m*\u001b[39;49m\u001b[38;5;241;43m*\u001b[39;49m\u001b[43mkwargs\u001b[49m\u001b[43m)\u001b[49m\n\u001b[1;32m    190\u001b[0m     time_spent \u001b[38;5;241m=\u001b[39m time\u001b[38;5;241m.\u001b[39mtime() \u001b[38;5;241m-\u001b[39m t0\n\u001b[1;32m    191\u001b[0m compilation_time_metrics[key]\u001b[38;5;241m.\u001b[39mappend(time_spent)\n",
      "File \u001b[0;32m/allen/programs/celltypes/workgroups/mousecelltypes/Hilal/miniconda3/envs/mmidas/lib/python3.10/site-packages/torch/_dynamo/convert_frame.py:491\u001b[0m, in \u001b[0;36m_compile.<locals>.compile_inner\u001b[0;34m(code, one_graph, hooks, transform)\u001b[0m\n\u001b[1;32m    489\u001b[0m \u001b[38;5;28;01mfor\u001b[39;00m attempt \u001b[38;5;129;01min\u001b[39;00m itertools\u001b[38;5;241m.\u001b[39mcount():\n\u001b[1;32m    490\u001b[0m     \u001b[38;5;28;01mtry\u001b[39;00m:\n\u001b[0;32m--> 491\u001b[0m         out_code \u001b[38;5;241m=\u001b[39m \u001b[43mtransform_code_object\u001b[49m\u001b[43m(\u001b[49m\u001b[43mcode\u001b[49m\u001b[43m,\u001b[49m\u001b[43m \u001b[49m\u001b[43mtransform\u001b[49m\u001b[43m)\u001b[49m\n\u001b[1;32m    492\u001b[0m         orig_code_map[out_code] \u001b[38;5;241m=\u001b[39m code\n\u001b[1;32m    493\u001b[0m         \u001b[38;5;28;01mbreak\u001b[39;00m\n",
      "File \u001b[0;32m/allen/programs/celltypes/workgroups/mousecelltypes/Hilal/miniconda3/envs/mmidas/lib/python3.10/site-packages/torch/_dynamo/bytecode_transformation.py:1028\u001b[0m, in \u001b[0;36mtransform_code_object\u001b[0;34m(code, transformations, safe)\u001b[0m\n\u001b[1;32m   1025\u001b[0m instructions \u001b[38;5;241m=\u001b[39m cleaned_instructions(code, safe)\n\u001b[1;32m   1026\u001b[0m propagate_line_nums(instructions)\n\u001b[0;32m-> 1028\u001b[0m \u001b[43mtransformations\u001b[49m\u001b[43m(\u001b[49m\u001b[43minstructions\u001b[49m\u001b[43m,\u001b[49m\u001b[43m \u001b[49m\u001b[43mcode_options\u001b[49m\u001b[43m)\u001b[49m\n\u001b[1;32m   1029\u001b[0m \u001b[38;5;28;01mreturn\u001b[39;00m clean_and_assemble_instructions(instructions, keys, code_options)[\u001b[38;5;241m1\u001b[39m]\n",
      "File \u001b[0;32m/allen/programs/celltypes/workgroups/mousecelltypes/Hilal/miniconda3/envs/mmidas/lib/python3.10/site-packages/torch/_dynamo/convert_frame.py:458\u001b[0m, in \u001b[0;36m_compile.<locals>.transform\u001b[0;34m(instructions, code_options)\u001b[0m\n\u001b[1;32m    456\u001b[0m \u001b[38;5;28;01mtry\u001b[39;00m:\n\u001b[1;32m    457\u001b[0m     \u001b[38;5;28;01mwith\u001b[39;00m tracing(tracer\u001b[38;5;241m.\u001b[39moutput\u001b[38;5;241m.\u001b[39mtracing_context):\n\u001b[0;32m--> 458\u001b[0m         \u001b[43mtracer\u001b[49m\u001b[38;5;241;43m.\u001b[39;49m\u001b[43mrun\u001b[49m\u001b[43m(\u001b[49m\u001b[43m)\u001b[49m\n\u001b[1;32m    459\u001b[0m \u001b[38;5;28;01mexcept\u001b[39;00m (exc\u001b[38;5;241m.\u001b[39mRestartAnalysis, exc\u001b[38;5;241m.\u001b[39mSkipFrame):\n\u001b[1;32m    460\u001b[0m     \u001b[38;5;28;01mraise\u001b[39;00m\n",
      "File \u001b[0;32m/allen/programs/celltypes/workgroups/mousecelltypes/Hilal/miniconda3/envs/mmidas/lib/python3.10/site-packages/torch/_dynamo/symbolic_convert.py:2069\u001b[0m, in \u001b[0;36mInstructionTranslator.run\u001b[0;34m(self)\u001b[0m\n\u001b[1;32m   2068\u001b[0m \u001b[38;5;28;01mdef\u001b[39;00m \u001b[38;5;21mrun\u001b[39m(\u001b[38;5;28mself\u001b[39m):\n\u001b[0;32m-> 2069\u001b[0m     \u001b[38;5;28;43msuper\u001b[39;49m\u001b[43m(\u001b[49m\u001b[43m)\u001b[49m\u001b[38;5;241;43m.\u001b[39;49m\u001b[43mrun\u001b[49m\u001b[43m(\u001b[49m\u001b[43m)\u001b[49m\n",
      "File \u001b[0;32m/allen/programs/celltypes/workgroups/mousecelltypes/Hilal/miniconda3/envs/mmidas/lib/python3.10/site-packages/torch/_dynamo/symbolic_convert.py:719\u001b[0m, in \u001b[0;36mInstructionTranslatorBase.run\u001b[0;34m(self)\u001b[0m\n\u001b[1;32m    714\u001b[0m \u001b[38;5;28;01mtry\u001b[39;00m:\n\u001b[1;32m    715\u001b[0m     \u001b[38;5;28mself\u001b[39m\u001b[38;5;241m.\u001b[39moutput\u001b[38;5;241m.\u001b[39mpush_tx(\u001b[38;5;28mself\u001b[39m)\n\u001b[1;32m    716\u001b[0m     \u001b[38;5;28;01mwhile\u001b[39;00m (\n\u001b[1;32m    717\u001b[0m         \u001b[38;5;28mself\u001b[39m\u001b[38;5;241m.\u001b[39minstruction_pointer \u001b[38;5;129;01mis\u001b[39;00m \u001b[38;5;129;01mnot\u001b[39;00m \u001b[38;5;28;01mNone\u001b[39;00m\n\u001b[1;32m    718\u001b[0m         \u001b[38;5;129;01mand\u001b[39;00m \u001b[38;5;129;01mnot\u001b[39;00m \u001b[38;5;28mself\u001b[39m\u001b[38;5;241m.\u001b[39moutput\u001b[38;5;241m.\u001b[39mshould_exit\n\u001b[0;32m--> 719\u001b[0m         \u001b[38;5;129;01mand\u001b[39;00m \u001b[38;5;28;43mself\u001b[39;49m\u001b[38;5;241;43m.\u001b[39;49m\u001b[43mstep\u001b[49m\u001b[43m(\u001b[49m\u001b[43m)\u001b[49m\n\u001b[1;32m    720\u001b[0m     ):\n\u001b[1;32m    721\u001b[0m         \u001b[38;5;28;01mpass\u001b[39;00m\n\u001b[1;32m    722\u001b[0m \u001b[38;5;28;01mexcept\u001b[39;00m BackendCompilerFailed:\n",
      "File \u001b[0;32m/allen/programs/celltypes/workgroups/mousecelltypes/Hilal/miniconda3/envs/mmidas/lib/python3.10/site-packages/torch/_dynamo/symbolic_convert.py:683\u001b[0m, in \u001b[0;36mInstructionTranslatorBase.step\u001b[0;34m(self)\u001b[0m\n\u001b[1;32m    679\u001b[0m         unimplemented(\u001b[38;5;124mf\u001b[39m\u001b[38;5;124m\"\u001b[39m\u001b[38;5;124mmissing: \u001b[39m\u001b[38;5;132;01m{\u001b[39;00minst\u001b[38;5;241m.\u001b[39mopname\u001b[38;5;132;01m}\u001b[39;00m\u001b[38;5;124m\"\u001b[39m)\n\u001b[1;32m    680\u001b[0m     TracingContext\u001b[38;5;241m.\u001b[39mset_current_loc(\n\u001b[1;32m    681\u001b[0m         \u001b[38;5;28mself\u001b[39m\u001b[38;5;241m.\u001b[39mf_code\u001b[38;5;241m.\u001b[39mco_filename, \u001b[38;5;28mself\u001b[39m\u001b[38;5;241m.\u001b[39mlineno, \u001b[38;5;28mself\u001b[39m\u001b[38;5;241m.\u001b[39mf_code\u001b[38;5;241m.\u001b[39mco_name\n\u001b[1;32m    682\u001b[0m     )\n\u001b[0;32m--> 683\u001b[0m     \u001b[38;5;28;43mgetattr\u001b[39;49m\u001b[43m(\u001b[49m\u001b[38;5;28;43mself\u001b[39;49m\u001b[43m,\u001b[49m\u001b[43m \u001b[49m\u001b[43minst\u001b[49m\u001b[38;5;241;43m.\u001b[39;49m\u001b[43mopname\u001b[49m\u001b[43m)\u001b[49m\u001b[43m(\u001b[49m\u001b[43minst\u001b[49m\u001b[43m)\u001b[49m\n\u001b[1;32m    685\u001b[0m     \u001b[38;5;28;01mreturn\u001b[39;00m inst\u001b[38;5;241m.\u001b[39mopname \u001b[38;5;241m!=\u001b[39m \u001b[38;5;124m\"\u001b[39m\u001b[38;5;124mRETURN_VALUE\u001b[39m\u001b[38;5;124m\"\u001b[39m\n\u001b[1;32m    686\u001b[0m \u001b[38;5;28;01mexcept\u001b[39;00m Unsupported:\n",
      "File \u001b[0;32m/allen/programs/celltypes/workgroups/mousecelltypes/Hilal/miniconda3/envs/mmidas/lib/python3.10/site-packages/torch/_dynamo/symbolic_convert.py:2157\u001b[0m, in \u001b[0;36mInstructionTranslator.RETURN_VALUE\u001b[0;34m(self, inst)\u001b[0m\n\u001b[1;32m   2152\u001b[0m _step_logger()(\n\u001b[1;32m   2153\u001b[0m     logging\u001b[38;5;241m.\u001b[39mINFO,\n\u001b[1;32m   2154\u001b[0m     \u001b[38;5;124mf\u001b[39m\u001b[38;5;124m\"\u001b[39m\u001b[38;5;124mtorchdynamo done tracing \u001b[39m\u001b[38;5;132;01m{\u001b[39;00m\u001b[38;5;28mself\u001b[39m\u001b[38;5;241m.\u001b[39mf_code\u001b[38;5;241m.\u001b[39mco_name\u001b[38;5;132;01m}\u001b[39;00m\u001b[38;5;124m (RETURN_VALUE)\u001b[39m\u001b[38;5;124m\"\u001b[39m,\n\u001b[1;32m   2155\u001b[0m )\n\u001b[1;32m   2156\u001b[0m log\u001b[38;5;241m.\u001b[39mdebug(\u001b[38;5;124m\"\u001b[39m\u001b[38;5;124mRETURN_VALUE triggered compile\u001b[39m\u001b[38;5;124m\"\u001b[39m)\n\u001b[0;32m-> 2157\u001b[0m \u001b[38;5;28;43mself\u001b[39;49m\u001b[38;5;241;43m.\u001b[39;49m\u001b[43moutput\u001b[49m\u001b[38;5;241;43m.\u001b[39;49m\u001b[43mcompile_subgraph\u001b[49m\u001b[43m(\u001b[49m\n\u001b[1;32m   2158\u001b[0m \u001b[43m    \u001b[49m\u001b[38;5;28;43mself\u001b[39;49m\u001b[43m,\u001b[49m\n\u001b[1;32m   2159\u001b[0m \u001b[43m    \u001b[49m\u001b[43mreason\u001b[49m\u001b[38;5;241;43m=\u001b[39;49m\u001b[43mGraphCompileReason\u001b[49m\u001b[43m(\u001b[49m\n\u001b[1;32m   2160\u001b[0m \u001b[43m        \u001b[49m\u001b[38;5;124;43m\"\u001b[39;49m\u001b[38;5;124;43mreturn_value\u001b[39;49m\u001b[38;5;124;43m\"\u001b[39;49m\u001b[43m,\u001b[49m\u001b[43m \u001b[49m\u001b[43m[\u001b[49m\u001b[38;5;28;43mself\u001b[39;49m\u001b[38;5;241;43m.\u001b[39;49m\u001b[43mframe_summary\u001b[49m\u001b[43m(\u001b[49m\u001b[43m)\u001b[49m\u001b[43m]\u001b[49m\u001b[43m,\u001b[49m\u001b[43m \u001b[49m\u001b[43mgraph_break\u001b[49m\u001b[38;5;241;43m=\u001b[39;49m\u001b[38;5;28;43;01mFalse\u001b[39;49;00m\n\u001b[1;32m   2161\u001b[0m \u001b[43m    \u001b[49m\u001b[43m)\u001b[49m\u001b[43m,\u001b[49m\n\u001b[1;32m   2162\u001b[0m \u001b[43m\u001b[49m\u001b[43m)\u001b[49m\n\u001b[1;32m   2163\u001b[0m \u001b[38;5;28mself\u001b[39m\u001b[38;5;241m.\u001b[39moutput\u001b[38;5;241m.\u001b[39madd_output_instructions([create_instruction(\u001b[38;5;124m\"\u001b[39m\u001b[38;5;124mRETURN_VALUE\u001b[39m\u001b[38;5;124m\"\u001b[39m)])\n",
      "File \u001b[0;32m/allen/programs/celltypes/workgroups/mousecelltypes/Hilal/miniconda3/envs/mmidas/lib/python3.10/site-packages/torch/_dynamo/output_graph.py:857\u001b[0m, in \u001b[0;36mOutputGraph.compile_subgraph\u001b[0;34m(self, tx, partial_convert, reason)\u001b[0m\n\u001b[1;32m    854\u001b[0m output \u001b[38;5;241m=\u001b[39m []\n\u001b[1;32m    855\u001b[0m \u001b[38;5;28;01mif\u001b[39;00m count_calls(\u001b[38;5;28mself\u001b[39m\u001b[38;5;241m.\u001b[39mgraph) \u001b[38;5;241m!=\u001b[39m \u001b[38;5;241m0\u001b[39m \u001b[38;5;129;01mor\u001b[39;00m \u001b[38;5;28mlen\u001b[39m(pass2\u001b[38;5;241m.\u001b[39mgraph_outputs) \u001b[38;5;241m!=\u001b[39m \u001b[38;5;241m0\u001b[39m:\n\u001b[1;32m    856\u001b[0m     output\u001b[38;5;241m.\u001b[39mextend(\n\u001b[0;32m--> 857\u001b[0m         \u001b[38;5;28;43mself\u001b[39;49m\u001b[38;5;241;43m.\u001b[39;49m\u001b[43mcompile_and_call_fx_graph\u001b[49m\u001b[43m(\u001b[49m\u001b[43mtx\u001b[49m\u001b[43m,\u001b[49m\u001b[43m \u001b[49m\u001b[43mpass2\u001b[49m\u001b[38;5;241;43m.\u001b[39;49m\u001b[43mgraph_output_vars\u001b[49m\u001b[43m(\u001b[49m\u001b[43m)\u001b[49m\u001b[43m,\u001b[49m\u001b[43m \u001b[49m\u001b[43mroot\u001b[49m\u001b[43m)\u001b[49m\n\u001b[1;32m    858\u001b[0m     )\n\u001b[1;32m    860\u001b[0m     \u001b[38;5;28;01mif\u001b[39;00m \u001b[38;5;28mlen\u001b[39m(pass2\u001b[38;5;241m.\u001b[39mgraph_outputs) \u001b[38;5;241m!=\u001b[39m \u001b[38;5;241m0\u001b[39m:\n\u001b[1;32m    861\u001b[0m         output\u001b[38;5;241m.\u001b[39mappend(pass2\u001b[38;5;241m.\u001b[39mcreate_store(graph_output_var))\n",
      "File \u001b[0;32m/allen/programs/celltypes/workgroups/mousecelltypes/Hilal/miniconda3/envs/mmidas/lib/python3.10/contextlib.py:79\u001b[0m, in \u001b[0;36mContextDecorator.__call__.<locals>.inner\u001b[0;34m(*args, **kwds)\u001b[0m\n\u001b[1;32m     76\u001b[0m \u001b[38;5;129m@wraps\u001b[39m(func)\n\u001b[1;32m     77\u001b[0m \u001b[38;5;28;01mdef\u001b[39;00m \u001b[38;5;21minner\u001b[39m(\u001b[38;5;241m*\u001b[39margs, \u001b[38;5;241m*\u001b[39m\u001b[38;5;241m*\u001b[39mkwds):\n\u001b[1;32m     78\u001b[0m     \u001b[38;5;28;01mwith\u001b[39;00m \u001b[38;5;28mself\u001b[39m\u001b[38;5;241m.\u001b[39m_recreate_cm():\n\u001b[0;32m---> 79\u001b[0m         \u001b[38;5;28;01mreturn\u001b[39;00m \u001b[43mfunc\u001b[49m\u001b[43m(\u001b[49m\u001b[38;5;241;43m*\u001b[39;49m\u001b[43margs\u001b[49m\u001b[43m,\u001b[49m\u001b[43m \u001b[49m\u001b[38;5;241;43m*\u001b[39;49m\u001b[38;5;241;43m*\u001b[39;49m\u001b[43mkwds\u001b[49m\u001b[43m)\u001b[49m\n",
      "File \u001b[0;32m/allen/programs/celltypes/workgroups/mousecelltypes/Hilal/miniconda3/envs/mmidas/lib/python3.10/site-packages/torch/_dynamo/output_graph.py:957\u001b[0m, in \u001b[0;36mOutputGraph.compile_and_call_fx_graph\u001b[0;34m(self, tx, rv, root)\u001b[0m\n\u001b[1;32m    952\u001b[0m graph_tabular_log\u001b[38;5;241m.\u001b[39mdebug(\u001b[38;5;124m\"\u001b[39m\u001b[38;5;132;01m%s\u001b[39;00m\u001b[38;5;124m\"\u001b[39m, lazy_format_graph_tabular(name, gm))\n\u001b[1;32m    953\u001b[0m graph_sizes_log\u001b[38;5;241m.\u001b[39mdebug(\n\u001b[1;32m    954\u001b[0m     \u001b[38;5;124m\"\u001b[39m\u001b[38;5;132;01m%s\u001b[39;00m\u001b[38;5;124m\"\u001b[39m, LazyString(\u001b[38;5;28;01mlambda\u001b[39;00m: \u001b[38;5;28mself\u001b[39m\u001b[38;5;241m.\u001b[39mget_graph_sizes_log_str(name))\n\u001b[1;32m    955\u001b[0m )\n\u001b[0;32m--> 957\u001b[0m compiled_fn \u001b[38;5;241m=\u001b[39m \u001b[38;5;28;43mself\u001b[39;49m\u001b[38;5;241;43m.\u001b[39;49m\u001b[43mcall_user_compiler\u001b[49m\u001b[43m(\u001b[49m\u001b[43mgm\u001b[49m\u001b[43m)\u001b[49m\n\u001b[1;32m    958\u001b[0m compiled_fn \u001b[38;5;241m=\u001b[39m disable(compiled_fn)\n\u001b[1;32m    960\u001b[0m counters[\u001b[38;5;124m\"\u001b[39m\u001b[38;5;124mstats\u001b[39m\u001b[38;5;124m\"\u001b[39m][\u001b[38;5;124m\"\u001b[39m\u001b[38;5;124munique_graphs\u001b[39m\u001b[38;5;124m\"\u001b[39m] \u001b[38;5;241m+\u001b[39m\u001b[38;5;241m=\u001b[39m \u001b[38;5;241m1\u001b[39m\n",
      "File \u001b[0;32m/allen/programs/celltypes/workgroups/mousecelltypes/Hilal/miniconda3/envs/mmidas/lib/python3.10/site-packages/torch/_dynamo/utils.py:189\u001b[0m, in \u001b[0;36mdynamo_timed.<locals>.dynamo_timed_inner.<locals>.time_wrapper\u001b[0;34m(*args, **kwargs)\u001b[0m\n\u001b[1;32m    187\u001b[0m \u001b[38;5;28;01mwith\u001b[39;00m torch\u001b[38;5;241m.\u001b[39mprofiler\u001b[38;5;241m.\u001b[39mrecord_function(\u001b[38;5;124mf\u001b[39m\u001b[38;5;124m\"\u001b[39m\u001b[38;5;132;01m{\u001b[39;00mkey\u001b[38;5;132;01m}\u001b[39;00m\u001b[38;5;124m (dynamo_timed)\u001b[39m\u001b[38;5;124m\"\u001b[39m):\n\u001b[1;32m    188\u001b[0m     t0 \u001b[38;5;241m=\u001b[39m time\u001b[38;5;241m.\u001b[39mtime()\n\u001b[0;32m--> 189\u001b[0m     r \u001b[38;5;241m=\u001b[39m \u001b[43mfunc\u001b[49m\u001b[43m(\u001b[49m\u001b[38;5;241;43m*\u001b[39;49m\u001b[43margs\u001b[49m\u001b[43m,\u001b[49m\u001b[43m \u001b[49m\u001b[38;5;241;43m*\u001b[39;49m\u001b[38;5;241;43m*\u001b[39;49m\u001b[43mkwargs\u001b[49m\u001b[43m)\u001b[49m\n\u001b[1;32m    190\u001b[0m     time_spent \u001b[38;5;241m=\u001b[39m time\u001b[38;5;241m.\u001b[39mtime() \u001b[38;5;241m-\u001b[39m t0\n\u001b[1;32m    191\u001b[0m compilation_time_metrics[key]\u001b[38;5;241m.\u001b[39mappend(time_spent)\n",
      "File \u001b[0;32m/allen/programs/celltypes/workgroups/mousecelltypes/Hilal/miniconda3/envs/mmidas/lib/python3.10/site-packages/torch/_dynamo/output_graph.py:1024\u001b[0m, in \u001b[0;36mOutputGraph.call_user_compiler\u001b[0;34m(self, gm)\u001b[0m\n\u001b[1;32m   1022\u001b[0m     unimplemented_with_warning(e, \u001b[38;5;28mself\u001b[39m\u001b[38;5;241m.\u001b[39mroot_tx\u001b[38;5;241m.\u001b[39mf_code, msg)\n\u001b[1;32m   1023\u001b[0m \u001b[38;5;28;01mexcept\u001b[39;00m \u001b[38;5;167;01mException\u001b[39;00m \u001b[38;5;28;01mas\u001b[39;00m e:\n\u001b[0;32m-> 1024\u001b[0m     \u001b[38;5;28;01mraise\u001b[39;00m BackendCompilerFailed(\u001b[38;5;28mself\u001b[39m\u001b[38;5;241m.\u001b[39mcompiler_fn, e)\u001b[38;5;241m.\u001b[39mwith_traceback(\n\u001b[1;32m   1025\u001b[0m         e\u001b[38;5;241m.\u001b[39m__traceback__\n\u001b[1;32m   1026\u001b[0m     ) \u001b[38;5;28;01mfrom\u001b[39;00m \u001b[38;5;28;01mNone\u001b[39;00m\n\u001b[1;32m   1028\u001b[0m signpost_event(\n\u001b[1;32m   1029\u001b[0m     \u001b[38;5;124m\"\u001b[39m\u001b[38;5;124mdynamo\u001b[39m\u001b[38;5;124m\"\u001b[39m,\n\u001b[1;32m   1030\u001b[0m     \u001b[38;5;124m\"\u001b[39m\u001b[38;5;124mOutputGraph.call_user_compiler\u001b[39m\u001b[38;5;124m\"\u001b[39m,\n\u001b[0;32m   (...)\u001b[0m\n\u001b[1;32m   1036\u001b[0m     },\n\u001b[1;32m   1037\u001b[0m )\n\u001b[1;32m   1039\u001b[0m \u001b[38;5;28;01mreturn\u001b[39;00m compiled_fn\n",
      "File \u001b[0;32m/allen/programs/celltypes/workgroups/mousecelltypes/Hilal/miniconda3/envs/mmidas/lib/python3.10/site-packages/torch/_dynamo/output_graph.py:1009\u001b[0m, in \u001b[0;36mOutputGraph.call_user_compiler\u001b[0;34m(self, gm)\u001b[0m\n\u001b[1;32m   1007\u001b[0m \u001b[38;5;28;01mif\u001b[39;00m config\u001b[38;5;241m.\u001b[39mverify_correctness:\n\u001b[1;32m   1008\u001b[0m     compiler_fn \u001b[38;5;241m=\u001b[39m WrapperBackend(compiler_fn)\n\u001b[0;32m-> 1009\u001b[0m compiled_fn \u001b[38;5;241m=\u001b[39m \u001b[43mcompiler_fn\u001b[49m\u001b[43m(\u001b[49m\u001b[43mgm\u001b[49m\u001b[43m,\u001b[49m\u001b[43m \u001b[49m\u001b[38;5;28;43mself\u001b[39;49m\u001b[38;5;241;43m.\u001b[39;49m\u001b[43mexample_inputs\u001b[49m\u001b[43m(\u001b[49m\u001b[43m)\u001b[49m\u001b[43m)\u001b[49m\n\u001b[1;32m   1010\u001b[0m _step_logger()(logging\u001b[38;5;241m.\u001b[39mINFO, \u001b[38;5;124mf\u001b[39m\u001b[38;5;124m\"\u001b[39m\u001b[38;5;124mdone compiler function \u001b[39m\u001b[38;5;132;01m{\u001b[39;00mname\u001b[38;5;132;01m}\u001b[39;00m\u001b[38;5;124m\"\u001b[39m)\n\u001b[1;32m   1011\u001b[0m \u001b[38;5;28;01massert\u001b[39;00m \u001b[38;5;28mcallable\u001b[39m(compiled_fn), \u001b[38;5;124m\"\u001b[39m\u001b[38;5;124mcompiler_fn did not return callable\u001b[39m\u001b[38;5;124m\"\u001b[39m\n",
      "File \u001b[0;32m/allen/programs/celltypes/workgroups/mousecelltypes/Hilal/miniconda3/envs/mmidas/lib/python3.10/site-packages/torch/_dynamo/repro/after_dynamo.py:117\u001b[0m, in \u001b[0;36mwrap_backend_debug.<locals>.debug_wrapper\u001b[0;34m(gm, example_inputs, **kwargs)\u001b[0m\n\u001b[1;32m    115\u001b[0m             \u001b[38;5;28;01mraise\u001b[39;00m\n\u001b[1;32m    116\u001b[0m \u001b[38;5;28;01melse\u001b[39;00m:\n\u001b[0;32m--> 117\u001b[0m     compiled_gm \u001b[38;5;241m=\u001b[39m \u001b[43mcompiler_fn\u001b[49m\u001b[43m(\u001b[49m\u001b[43mgm\u001b[49m\u001b[43m,\u001b[49m\u001b[43m \u001b[49m\u001b[43mexample_inputs\u001b[49m\u001b[43m)\u001b[49m\n\u001b[1;32m    119\u001b[0m \u001b[38;5;28;01mreturn\u001b[39;00m compiled_gm\n",
      "File \u001b[0;32m/allen/programs/celltypes/workgroups/mousecelltypes/Hilal/miniconda3/envs/mmidas/lib/python3.10/site-packages/torch/__init__.py:1568\u001b[0m, in \u001b[0;36m_TorchCompileInductorWrapper.__call__\u001b[0;34m(self, model_, inputs_)\u001b[0m\n\u001b[1;32m   1565\u001b[0m \u001b[38;5;28;01mdef\u001b[39;00m \u001b[38;5;21m__call__\u001b[39m(\u001b[38;5;28mself\u001b[39m, model_, inputs_):\n\u001b[1;32m   1566\u001b[0m     \u001b[38;5;28;01mfrom\u001b[39;00m \u001b[38;5;21;01mtorch\u001b[39;00m\u001b[38;5;21;01m.\u001b[39;00m\u001b[38;5;21;01m_inductor\u001b[39;00m\u001b[38;5;21;01m.\u001b[39;00m\u001b[38;5;21;01mcompile_fx\u001b[39;00m \u001b[38;5;28;01mimport\u001b[39;00m compile_fx\n\u001b[0;32m-> 1568\u001b[0m     \u001b[38;5;28;01mreturn\u001b[39;00m \u001b[43mcompile_fx\u001b[49m\u001b[43m(\u001b[49m\u001b[43mmodel_\u001b[49m\u001b[43m,\u001b[49m\u001b[43m \u001b[49m\u001b[43minputs_\u001b[49m\u001b[43m,\u001b[49m\u001b[43m \u001b[49m\u001b[43mconfig_patches\u001b[49m\u001b[38;5;241;43m=\u001b[39;49m\u001b[38;5;28;43mself\u001b[39;49m\u001b[38;5;241;43m.\u001b[39;49m\u001b[43mconfig\u001b[49m\u001b[43m)\u001b[49m\n",
      "File \u001b[0;32m/allen/programs/celltypes/workgroups/mousecelltypes/Hilal/miniconda3/envs/mmidas/lib/python3.10/site-packages/torch/_inductor/compile_fx.py:1150\u001b[0m, in \u001b[0;36mcompile_fx\u001b[0;34m(model_, example_inputs_, inner_compile, config_patches, decompositions)\u001b[0m\n\u001b[1;32m   1143\u001b[0m tracing_context \u001b[38;5;241m=\u001b[39m (\n\u001b[1;32m   1144\u001b[0m     torch\u001b[38;5;241m.\u001b[39m_guards\u001b[38;5;241m.\u001b[39mTracingContext\u001b[38;5;241m.\u001b[39mget() \u001b[38;5;129;01mor\u001b[39;00m torch\u001b[38;5;241m.\u001b[39m_guards\u001b[38;5;241m.\u001b[39mTracingContext(fake_mode)\n\u001b[1;32m   1145\u001b[0m )\n\u001b[1;32m   1147\u001b[0m \u001b[38;5;28;01mwith\u001b[39;00m V\u001b[38;5;241m.\u001b[39mset_fake_mode(fake_mode), torch\u001b[38;5;241m.\u001b[39m_guards\u001b[38;5;241m.\u001b[39mtracing(  \u001b[38;5;66;03m# type: ignore[call-arg]\u001b[39;00m\n\u001b[1;32m   1148\u001b[0m     tracing_context\n\u001b[1;32m   1149\u001b[0m ), compiled_autograd\u001b[38;5;241m.\u001b[39mdisable():\n\u001b[0;32m-> 1150\u001b[0m     \u001b[38;5;28;01mreturn\u001b[39;00m \u001b[43maot_autograd\u001b[49m\u001b[43m(\u001b[49m\n\u001b[1;32m   1151\u001b[0m \u001b[43m        \u001b[49m\u001b[43mfw_compiler\u001b[49m\u001b[38;5;241;43m=\u001b[39;49m\u001b[43mfw_compiler\u001b[49m\u001b[43m,\u001b[49m\n\u001b[1;32m   1152\u001b[0m \u001b[43m        \u001b[49m\u001b[43mbw_compiler\u001b[49m\u001b[38;5;241;43m=\u001b[39;49m\u001b[43mbw_compiler\u001b[49m\u001b[43m,\u001b[49m\n\u001b[1;32m   1153\u001b[0m \u001b[43m        \u001b[49m\u001b[43minference_compiler\u001b[49m\u001b[38;5;241;43m=\u001b[39;49m\u001b[43minference_compiler\u001b[49m\u001b[43m,\u001b[49m\n\u001b[1;32m   1154\u001b[0m \u001b[43m        \u001b[49m\u001b[43mdecompositions\u001b[49m\u001b[38;5;241;43m=\u001b[39;49m\u001b[43mdecompositions\u001b[49m\u001b[43m,\u001b[49m\n\u001b[1;32m   1155\u001b[0m \u001b[43m        \u001b[49m\u001b[43mpartition_fn\u001b[49m\u001b[38;5;241;43m=\u001b[39;49m\u001b[43mpartition_fn\u001b[49m\u001b[43m,\u001b[49m\n\u001b[1;32m   1156\u001b[0m \u001b[43m        \u001b[49m\u001b[43mkeep_inference_input_mutations\u001b[49m\u001b[38;5;241;43m=\u001b[39;49m\u001b[38;5;28;43;01mTrue\u001b[39;49;00m\u001b[43m,\u001b[49m\n\u001b[1;32m   1157\u001b[0m \u001b[43m    \u001b[49m\u001b[43m)\u001b[49m\u001b[43m(\u001b[49m\u001b[43mmodel_\u001b[49m\u001b[43m,\u001b[49m\u001b[43m \u001b[49m\u001b[43mexample_inputs_\u001b[49m\u001b[43m)\u001b[49m\n",
      "File \u001b[0;32m/allen/programs/celltypes/workgroups/mousecelltypes/Hilal/miniconda3/envs/mmidas/lib/python3.10/site-packages/torch/_dynamo/backends/common.py:55\u001b[0m, in \u001b[0;36maot_autograd.<locals>.compiler_fn\u001b[0;34m(gm, example_inputs)\u001b[0m\n\u001b[1;32m     52\u001b[0m \u001b[38;5;28;01mtry\u001b[39;00m:\n\u001b[1;32m     53\u001b[0m     \u001b[38;5;66;03m# NB: NOT cloned!\u001b[39;00m\n\u001b[1;32m     54\u001b[0m     \u001b[38;5;28;01mwith\u001b[39;00m enable_aot_logging(), patch_config:\n\u001b[0;32m---> 55\u001b[0m         cg \u001b[38;5;241m=\u001b[39m \u001b[43maot_module_simplified\u001b[49m\u001b[43m(\u001b[49m\u001b[43mgm\u001b[49m\u001b[43m,\u001b[49m\u001b[43m \u001b[49m\u001b[43mexample_inputs\u001b[49m\u001b[43m,\u001b[49m\u001b[43m \u001b[49m\u001b[38;5;241;43m*\u001b[39;49m\u001b[38;5;241;43m*\u001b[39;49m\u001b[43mkwargs\u001b[49m\u001b[43m)\u001b[49m\n\u001b[1;32m     56\u001b[0m         counters[\u001b[38;5;124m\"\u001b[39m\u001b[38;5;124maot_autograd\u001b[39m\u001b[38;5;124m\"\u001b[39m][\u001b[38;5;124m\"\u001b[39m\u001b[38;5;124mok\u001b[39m\u001b[38;5;124m\"\u001b[39m] \u001b[38;5;241m+\u001b[39m\u001b[38;5;241m=\u001b[39m \u001b[38;5;241m1\u001b[39m\n\u001b[1;32m     57\u001b[0m         \u001b[38;5;28;01mreturn\u001b[39;00m disable(cg)\n",
      "File \u001b[0;32m/allen/programs/celltypes/workgroups/mousecelltypes/Hilal/miniconda3/envs/mmidas/lib/python3.10/site-packages/torch/_functorch/aot_autograd.py:3891\u001b[0m, in \u001b[0;36maot_module_simplified\u001b[0;34m(mod, args, fw_compiler, bw_compiler, partition_fn, decompositions, keep_inference_input_mutations, inference_compiler)\u001b[0m\n\u001b[1;32m   3875\u001b[0m aot_config \u001b[38;5;241m=\u001b[39m AOTConfig(\n\u001b[1;32m   3876\u001b[0m     fw_compiler\u001b[38;5;241m=\u001b[39mfw_compiler,\n\u001b[1;32m   3877\u001b[0m     bw_compiler\u001b[38;5;241m=\u001b[39mbw_compiler,\n\u001b[0;32m   (...)\u001b[0m\n\u001b[1;32m   3887\u001b[0m     no_tangents\u001b[38;5;241m=\u001b[39m\u001b[38;5;28;01mFalse\u001b[39;00m,\n\u001b[1;32m   3888\u001b[0m )\n\u001b[1;32m   3890\u001b[0m \u001b[38;5;28;01mwith\u001b[39;00m compiled_autograd\u001b[38;5;241m.\u001b[39mdisable():\n\u001b[0;32m-> 3891\u001b[0m     compiled_fn \u001b[38;5;241m=\u001b[39m \u001b[43mcreate_aot_dispatcher_function\u001b[49m\u001b[43m(\u001b[49m\n\u001b[1;32m   3892\u001b[0m \u001b[43m        \u001b[49m\u001b[43mfunctional_call\u001b[49m\u001b[43m,\u001b[49m\n\u001b[1;32m   3893\u001b[0m \u001b[43m        \u001b[49m\u001b[43mfull_args\u001b[49m\u001b[43m,\u001b[49m\n\u001b[1;32m   3894\u001b[0m \u001b[43m        \u001b[49m\u001b[43maot_config\u001b[49m\u001b[43m,\u001b[49m\n\u001b[1;32m   3895\u001b[0m \u001b[43m    \u001b[49m\u001b[43m)\u001b[49m\n\u001b[1;32m   3897\u001b[0m \u001b[38;5;66;03m# TODO: There is something deeply wrong here; compiled_fn running with\u001b[39;00m\n\u001b[1;32m   3898\u001b[0m \u001b[38;5;66;03m# the boxed calling convention, but aot_module_simplified somehow\u001b[39;00m\n\u001b[1;32m   3899\u001b[0m \u001b[38;5;66;03m# historically returned a function that was not the boxed calling\u001b[39;00m\n\u001b[1;32m   3900\u001b[0m \u001b[38;5;66;03m# convention.  This should get fixed...\u001b[39;00m\n\u001b[1;32m   3901\u001b[0m \u001b[38;5;28;01mdef\u001b[39;00m \u001b[38;5;21mforward\u001b[39m(\u001b[38;5;241m*\u001b[39mruntime_args):\n",
      "File \u001b[0;32m/allen/programs/celltypes/workgroups/mousecelltypes/Hilal/miniconda3/envs/mmidas/lib/python3.10/site-packages/torch/_dynamo/utils.py:189\u001b[0m, in \u001b[0;36mdynamo_timed.<locals>.dynamo_timed_inner.<locals>.time_wrapper\u001b[0;34m(*args, **kwargs)\u001b[0m\n\u001b[1;32m    187\u001b[0m \u001b[38;5;28;01mwith\u001b[39;00m torch\u001b[38;5;241m.\u001b[39mprofiler\u001b[38;5;241m.\u001b[39mrecord_function(\u001b[38;5;124mf\u001b[39m\u001b[38;5;124m\"\u001b[39m\u001b[38;5;132;01m{\u001b[39;00mkey\u001b[38;5;132;01m}\u001b[39;00m\u001b[38;5;124m (dynamo_timed)\u001b[39m\u001b[38;5;124m\"\u001b[39m):\n\u001b[1;32m    188\u001b[0m     t0 \u001b[38;5;241m=\u001b[39m time\u001b[38;5;241m.\u001b[39mtime()\n\u001b[0;32m--> 189\u001b[0m     r \u001b[38;5;241m=\u001b[39m \u001b[43mfunc\u001b[49m\u001b[43m(\u001b[49m\u001b[38;5;241;43m*\u001b[39;49m\u001b[43margs\u001b[49m\u001b[43m,\u001b[49m\u001b[43m \u001b[49m\u001b[38;5;241;43m*\u001b[39;49m\u001b[38;5;241;43m*\u001b[39;49m\u001b[43mkwargs\u001b[49m\u001b[43m)\u001b[49m\n\u001b[1;32m    190\u001b[0m     time_spent \u001b[38;5;241m=\u001b[39m time\u001b[38;5;241m.\u001b[39mtime() \u001b[38;5;241m-\u001b[39m t0\n\u001b[1;32m    191\u001b[0m compilation_time_metrics[key]\u001b[38;5;241m.\u001b[39mappend(time_spent)\n",
      "File \u001b[0;32m/allen/programs/celltypes/workgroups/mousecelltypes/Hilal/miniconda3/envs/mmidas/lib/python3.10/site-packages/torch/_functorch/aot_autograd.py:3429\u001b[0m, in \u001b[0;36mcreate_aot_dispatcher_function\u001b[0;34m(flat_fn, flat_args, aot_config)\u001b[0m\n\u001b[1;32m   3426\u001b[0m compiler_fn \u001b[38;5;241m=\u001b[39m partial(aot_wrapper_dedupe, compiler_fn\u001b[38;5;241m=\u001b[39mcompiler_fn)\n\u001b[1;32m   3427\u001b[0m \u001b[38;5;66;03m# You can put more passes here\u001b[39;00m\n\u001b[0;32m-> 3429\u001b[0m compiled_fn \u001b[38;5;241m=\u001b[39m \u001b[43mcompiler_fn\u001b[49m\u001b[43m(\u001b[49m\u001b[43mflat_fn\u001b[49m\u001b[43m,\u001b[49m\u001b[43m \u001b[49m\u001b[43mfake_flat_args\u001b[49m\u001b[43m,\u001b[49m\u001b[43m \u001b[49m\u001b[43maot_config\u001b[49m\u001b[43m,\u001b[49m\u001b[43m \u001b[49m\u001b[43mfw_metadata\u001b[49m\u001b[38;5;241;43m=\u001b[39;49m\u001b[43mfw_metadata\u001b[49m\u001b[43m)\u001b[49m\n\u001b[1;32m   3430\u001b[0m \u001b[38;5;28;01mif\u001b[39;00m aot_config\u001b[38;5;241m.\u001b[39mis_export:\n\u001b[1;32m   3432\u001b[0m     mutated_user_inp_locs \u001b[38;5;241m=\u001b[39m [\n\u001b[1;32m   3433\u001b[0m         idx \u001b[38;5;241m-\u001b[39m aot_config\u001b[38;5;241m.\u001b[39mnum_params_buffers\n\u001b[1;32m   3434\u001b[0m         \u001b[38;5;28;01mfor\u001b[39;00m idx \u001b[38;5;129;01min\u001b[39;00m fw_metadata\u001b[38;5;241m.\u001b[39mmutated_inp_indices\n\u001b[1;32m   3435\u001b[0m         \u001b[38;5;28;01mif\u001b[39;00m idx \u001b[38;5;241m>\u001b[39m\u001b[38;5;241m=\u001b[39m aot_config\u001b[38;5;241m.\u001b[39mnum_params_buffers\n\u001b[1;32m   3436\u001b[0m     ]\n",
      "File \u001b[0;32m/allen/programs/celltypes/workgroups/mousecelltypes/Hilal/miniconda3/envs/mmidas/lib/python3.10/site-packages/torch/_functorch/aot_autograd.py:2212\u001b[0m, in \u001b[0;36maot_wrapper_dedupe\u001b[0;34m(flat_fn, flat_args, aot_config, compiler_fn, fw_metadata)\u001b[0m\n\u001b[1;32m   2209\u001b[0m         \u001b[38;5;28;01mbreak\u001b[39;00m\n\u001b[1;32m   2211\u001b[0m \u001b[38;5;28;01mif\u001b[39;00m ok:\n\u001b[0;32m-> 2212\u001b[0m     \u001b[38;5;28;01mreturn\u001b[39;00m \u001b[43mcompiler_fn\u001b[49m\u001b[43m(\u001b[49m\u001b[43mflat_fn\u001b[49m\u001b[43m,\u001b[49m\u001b[43m \u001b[49m\u001b[43mleaf_flat_args\u001b[49m\u001b[43m,\u001b[49m\u001b[43m \u001b[49m\u001b[43maot_config\u001b[49m\u001b[43m,\u001b[49m\u001b[43m \u001b[49m\u001b[43mfw_metadata\u001b[49m\u001b[38;5;241;43m=\u001b[39;49m\u001b[43mfw_metadata\u001b[49m\u001b[43m)\u001b[49m\n\u001b[1;32m   2214\u001b[0m \u001b[38;5;66;03m# export path: ban duplicate inputs for now, add later if requested.\u001b[39;00m\n\u001b[1;32m   2215\u001b[0m \u001b[38;5;28;01mif\u001b[39;00m aot_config\u001b[38;5;241m.\u001b[39mis_export:\n",
      "File \u001b[0;32m/allen/programs/celltypes/workgroups/mousecelltypes/Hilal/miniconda3/envs/mmidas/lib/python3.10/site-packages/torch/_functorch/aot_autograd.py:2392\u001b[0m, in \u001b[0;36maot_wrapper_synthetic_base\u001b[0;34m(flat_fn, flat_args, aot_config, fw_metadata, needs_autograd, compiler_fn)\u001b[0m\n\u001b[1;32m   2390\u001b[0m \u001b[38;5;66;03m# Happy path: we don't need synthetic bases\u001b[39;00m\n\u001b[1;32m   2391\u001b[0m \u001b[38;5;28;01mif\u001b[39;00m synthetic_base_info \u001b[38;5;129;01mis\u001b[39;00m \u001b[38;5;28;01mNone\u001b[39;00m:\n\u001b[0;32m-> 2392\u001b[0m     \u001b[38;5;28;01mreturn\u001b[39;00m \u001b[43mcompiler_fn\u001b[49m\u001b[43m(\u001b[49m\u001b[43mflat_fn\u001b[49m\u001b[43m,\u001b[49m\u001b[43m \u001b[49m\u001b[43mflat_args\u001b[49m\u001b[43m,\u001b[49m\u001b[43m \u001b[49m\u001b[43maot_config\u001b[49m\u001b[43m,\u001b[49m\u001b[43m \u001b[49m\u001b[43mfw_metadata\u001b[49m\u001b[38;5;241;43m=\u001b[39;49m\u001b[43mfw_metadata\u001b[49m\u001b[43m)\u001b[49m\n\u001b[1;32m   2394\u001b[0m \u001b[38;5;66;03m# export path: ban synthetic bases for now, add later if requested.\u001b[39;00m\n\u001b[1;32m   2395\u001b[0m \u001b[38;5;28;01mif\u001b[39;00m aot_config\u001b[38;5;241m.\u001b[39mis_export:\n",
      "File \u001b[0;32m/allen/programs/celltypes/workgroups/mousecelltypes/Hilal/miniconda3/envs/mmidas/lib/python3.10/site-packages/torch/_functorch/aot_autograd.py:2917\u001b[0m, in \u001b[0;36maot_dispatch_autograd\u001b[0;34m(flat_fn, flat_args, aot_config, fw_metadata)\u001b[0m\n\u001b[1;32m   2914\u001b[0m         torch\u001b[38;5;241m.\u001b[39m_guards\u001b[38;5;241m.\u001b[39mTracingContext\u001b[38;5;241m.\u001b[39mget()\u001b[38;5;241m.\u001b[39mfw_metadata \u001b[38;5;241m=\u001b[39m fw_metadata\n\u001b[1;32m   2916\u001b[0m     \u001b[38;5;28;01mwith\u001b[39;00m TracingContext\u001b[38;5;241m.\u001b[39mreport_output_strides() \u001b[38;5;28;01mas\u001b[39;00m fwd_output_strides:\n\u001b[0;32m-> 2917\u001b[0m         compiled_fw_func \u001b[38;5;241m=\u001b[39m \u001b[43maot_config\u001b[49m\u001b[38;5;241;43m.\u001b[39;49m\u001b[43mfw_compiler\u001b[49m\u001b[43m(\u001b[49m\n\u001b[1;32m   2918\u001b[0m \u001b[43m            \u001b[49m\u001b[43mfw_module\u001b[49m\u001b[43m,\u001b[49m\u001b[43m \u001b[49m\u001b[43madjusted_flat_args\u001b[49m\n\u001b[1;32m   2919\u001b[0m \u001b[43m        \u001b[49m\u001b[43m)\u001b[49m\n\u001b[1;32m   2921\u001b[0m \u001b[38;5;66;03m# NB: It's important to compile backwards ahead of time, as this may\u001b[39;00m\n\u001b[1;32m   2922\u001b[0m \u001b[38;5;66;03m# add extra guards which we need to apply to the Dynamo cache at\u001b[39;00m\n\u001b[1;32m   2923\u001b[0m \u001b[38;5;66;03m# forwards\u001b[39;00m\n\u001b[1;32m   2924\u001b[0m \u001b[38;5;28;01mwith\u001b[39;00m track_graph_compiling(aot_config, \u001b[38;5;124m\"\u001b[39m\u001b[38;5;124mbackward\u001b[39m\u001b[38;5;124m\"\u001b[39m):\n",
      "File \u001b[0;32m/allen/programs/celltypes/workgroups/mousecelltypes/Hilal/miniconda3/envs/mmidas/lib/python3.10/site-packages/torch/_dynamo/utils.py:189\u001b[0m, in \u001b[0;36mdynamo_timed.<locals>.dynamo_timed_inner.<locals>.time_wrapper\u001b[0;34m(*args, **kwargs)\u001b[0m\n\u001b[1;32m    187\u001b[0m \u001b[38;5;28;01mwith\u001b[39;00m torch\u001b[38;5;241m.\u001b[39mprofiler\u001b[38;5;241m.\u001b[39mrecord_function(\u001b[38;5;124mf\u001b[39m\u001b[38;5;124m\"\u001b[39m\u001b[38;5;132;01m{\u001b[39;00mkey\u001b[38;5;132;01m}\u001b[39;00m\u001b[38;5;124m (dynamo_timed)\u001b[39m\u001b[38;5;124m\"\u001b[39m):\n\u001b[1;32m    188\u001b[0m     t0 \u001b[38;5;241m=\u001b[39m time\u001b[38;5;241m.\u001b[39mtime()\n\u001b[0;32m--> 189\u001b[0m     r \u001b[38;5;241m=\u001b[39m \u001b[43mfunc\u001b[49m\u001b[43m(\u001b[49m\u001b[38;5;241;43m*\u001b[39;49m\u001b[43margs\u001b[49m\u001b[43m,\u001b[49m\u001b[43m \u001b[49m\u001b[38;5;241;43m*\u001b[39;49m\u001b[38;5;241;43m*\u001b[39;49m\u001b[43mkwargs\u001b[49m\u001b[43m)\u001b[49m\n\u001b[1;32m    190\u001b[0m     time_spent \u001b[38;5;241m=\u001b[39m time\u001b[38;5;241m.\u001b[39mtime() \u001b[38;5;241m-\u001b[39m t0\n\u001b[1;32m    191\u001b[0m compilation_time_metrics[key]\u001b[38;5;241m.\u001b[39mappend(time_spent)\n",
      "File \u001b[0;32m/allen/programs/celltypes/workgroups/mousecelltypes/Hilal/miniconda3/envs/mmidas/lib/python3.10/site-packages/torch/_inductor/compile_fx.py:1092\u001b[0m, in \u001b[0;36mcompile_fx.<locals>.fw_compiler_base\u001b[0;34m(model, example_inputs, is_inference)\u001b[0m\n\u001b[1;32m   1070\u001b[0m     \u001b[38;5;66;03m# We makes the following assumption\u001b[39;00m\n\u001b[1;32m   1071\u001b[0m     \u001b[38;5;66;03m# For inference\u001b[39;00m\n\u001b[1;32m   1072\u001b[0m     \u001b[38;5;66;03m#   len(orig_model_outputs) == len(model_outputs)\u001b[39;00m\n\u001b[0;32m   (...)\u001b[0m\n\u001b[1;32m   1080\u001b[0m     \u001b[38;5;66;03m# To make things safe, we'll use original_output_start_index field\u001b[39;00m\n\u001b[1;32m   1081\u001b[0m     \u001b[38;5;66;03m# set by AOTAutograd to decide where the original module outputs start.\u001b[39;00m\n\u001b[1;32m   1083\u001b[0m     user_visible_outputs \u001b[38;5;241m=\u001b[39m {\n\u001b[1;32m   1084\u001b[0m         n\u001b[38;5;241m.\u001b[39mname\n\u001b[1;32m   1085\u001b[0m         \u001b[38;5;28;01mfor\u001b[39;00m n \u001b[38;5;129;01min\u001b[39;00m model_outputs[\n\u001b[0;32m   (...)\u001b[0m\n\u001b[1;32m   1089\u001b[0m         \u001b[38;5;28;01mif\u001b[39;00m \u001b[38;5;28misinstance\u001b[39m(n, torch\u001b[38;5;241m.\u001b[39mfx\u001b[38;5;241m.\u001b[39mNode)\n\u001b[1;32m   1090\u001b[0m     }\n\u001b[0;32m-> 1092\u001b[0m \u001b[38;5;28;01mreturn\u001b[39;00m \u001b[43minner_compile\u001b[49m\u001b[43m(\u001b[49m\n\u001b[1;32m   1093\u001b[0m \u001b[43m    \u001b[49m\u001b[43mmodel\u001b[49m\u001b[43m,\u001b[49m\n\u001b[1;32m   1094\u001b[0m \u001b[43m    \u001b[49m\u001b[43mexample_inputs\u001b[49m\u001b[43m,\u001b[49m\n\u001b[1;32m   1095\u001b[0m \u001b[43m    \u001b[49m\u001b[43mnum_fixed\u001b[49m\u001b[38;5;241;43m=\u001b[39;49m\u001b[43mfixed\u001b[49m\u001b[43m,\u001b[49m\n\u001b[1;32m   1096\u001b[0m \u001b[43m    \u001b[49m\u001b[43mcudagraphs\u001b[49m\u001b[38;5;241;43m=\u001b[39;49m\u001b[43mcudagraphs\u001b[49m\u001b[43m,\u001b[49m\n\u001b[1;32m   1097\u001b[0m \u001b[43m    \u001b[49m\u001b[43mgraph_id\u001b[49m\u001b[38;5;241;43m=\u001b[39;49m\u001b[43mgraph_id\u001b[49m\u001b[43m,\u001b[49m\n\u001b[1;32m   1098\u001b[0m \u001b[43m    \u001b[49m\u001b[43mis_inference\u001b[49m\u001b[38;5;241;43m=\u001b[39;49m\u001b[43mis_inference\u001b[49m\u001b[43m,\u001b[49m\n\u001b[1;32m   1099\u001b[0m \u001b[43m    \u001b[49m\u001b[43mboxed_forward_device_index\u001b[49m\u001b[38;5;241;43m=\u001b[39;49m\u001b[43mforward_device\u001b[49m\u001b[43m,\u001b[49m\n\u001b[1;32m   1100\u001b[0m \u001b[43m    \u001b[49m\u001b[43muser_visible_outputs\u001b[49m\u001b[38;5;241;43m=\u001b[39;49m\u001b[43muser_visible_outputs\u001b[49m\u001b[43m,\u001b[49m\n\u001b[1;32m   1101\u001b[0m \u001b[43m\u001b[49m\u001b[43m)\u001b[49m\n",
      "File \u001b[0;32m/allen/programs/celltypes/workgroups/mousecelltypes/Hilal/miniconda3/envs/mmidas/lib/python3.10/site-packages/torch/_dynamo/repro/after_aot.py:80\u001b[0m, in \u001b[0;36mwrap_compiler_debug.<locals>.debug_wrapper\u001b[0;34m(gm, example_inputs, **kwargs)\u001b[0m\n\u001b[1;32m     75\u001b[0m \u001b[38;5;28;01massert\u001b[39;00m config\u001b[38;5;241m.\u001b[39mrepro_after \u001b[38;5;129;01min\u001b[39;00m (\u001b[38;5;124m\"\u001b[39m\u001b[38;5;124mdynamo\u001b[39m\u001b[38;5;124m\"\u001b[39m, \u001b[38;5;124m\"\u001b[39m\u001b[38;5;124maot\u001b[39m\u001b[38;5;124m\"\u001b[39m, \u001b[38;5;28;01mNone\u001b[39;00m)\n\u001b[1;32m     77\u001b[0m \u001b[38;5;28;01mtry\u001b[39;00m:\n\u001b[1;32m     78\u001b[0m     \u001b[38;5;66;03m# Call the compiler_fn - which is either aot_autograd or inductor\u001b[39;00m\n\u001b[1;32m     79\u001b[0m     \u001b[38;5;66;03m# with fake inputs\u001b[39;00m\n\u001b[0;32m---> 80\u001b[0m     inner_compiled_fn \u001b[38;5;241m=\u001b[39m \u001b[43mcompiler_fn\u001b[49m\u001b[43m(\u001b[49m\u001b[43mgm\u001b[49m\u001b[43m,\u001b[49m\u001b[43m \u001b[49m\u001b[43mexample_inputs\u001b[49m\u001b[43m)\u001b[49m\n\u001b[1;32m     81\u001b[0m \u001b[38;5;28;01mexcept\u001b[39;00m \u001b[38;5;167;01mException\u001b[39;00m \u001b[38;5;28;01mas\u001b[39;00m e:\n\u001b[1;32m     82\u001b[0m     \u001b[38;5;66;03m# TODO: Failures here are troublesome because no real inputs,\u001b[39;00m\n\u001b[1;32m     83\u001b[0m     \u001b[38;5;66;03m# need a different serialization strategy\u001b[39;00m\n\u001b[1;32m     84\u001b[0m     \u001b[38;5;28;01mif\u001b[39;00m config\u001b[38;5;241m.\u001b[39mrepro_after \u001b[38;5;241m==\u001b[39m \u001b[38;5;124m\"\u001b[39m\u001b[38;5;124maot\u001b[39m\u001b[38;5;124m\"\u001b[39m:\n",
      "File \u001b[0;32m/allen/programs/celltypes/workgroups/mousecelltypes/Hilal/miniconda3/envs/mmidas/lib/python3.10/site-packages/torch/_inductor/debug.py:228\u001b[0m, in \u001b[0;36mDebugContext.wrap.<locals>.inner\u001b[0;34m(*args, **kwargs)\u001b[0m\n\u001b[1;32m    225\u001b[0m \u001b[38;5;129m@functools\u001b[39m\u001b[38;5;241m.\u001b[39mwraps(fn)\n\u001b[1;32m    226\u001b[0m \u001b[38;5;28;01mdef\u001b[39;00m \u001b[38;5;21minner\u001b[39m(\u001b[38;5;241m*\u001b[39margs, \u001b[38;5;241m*\u001b[39m\u001b[38;5;241m*\u001b[39mkwargs):\n\u001b[1;32m    227\u001b[0m     \u001b[38;5;28;01mwith\u001b[39;00m DebugContext():\n\u001b[0;32m--> 228\u001b[0m         \u001b[38;5;28;01mreturn\u001b[39;00m \u001b[43mfn\u001b[49m\u001b[43m(\u001b[49m\u001b[38;5;241;43m*\u001b[39;49m\u001b[43margs\u001b[49m\u001b[43m,\u001b[49m\u001b[43m \u001b[49m\u001b[38;5;241;43m*\u001b[39;49m\u001b[38;5;241;43m*\u001b[39;49m\u001b[43mkwargs\u001b[49m\u001b[43m)\u001b[49m\n",
      "File \u001b[0;32m/allen/programs/celltypes/workgroups/mousecelltypes/Hilal/miniconda3/envs/mmidas/lib/python3.10/contextlib.py:79\u001b[0m, in \u001b[0;36mContextDecorator.__call__.<locals>.inner\u001b[0;34m(*args, **kwds)\u001b[0m\n\u001b[1;32m     76\u001b[0m \u001b[38;5;129m@wraps\u001b[39m(func)\n\u001b[1;32m     77\u001b[0m \u001b[38;5;28;01mdef\u001b[39;00m \u001b[38;5;21minner\u001b[39m(\u001b[38;5;241m*\u001b[39margs, \u001b[38;5;241m*\u001b[39m\u001b[38;5;241m*\u001b[39mkwds):\n\u001b[1;32m     78\u001b[0m     \u001b[38;5;28;01mwith\u001b[39;00m \u001b[38;5;28mself\u001b[39m\u001b[38;5;241m.\u001b[39m_recreate_cm():\n\u001b[0;32m---> 79\u001b[0m         \u001b[38;5;28;01mreturn\u001b[39;00m \u001b[43mfunc\u001b[49m\u001b[43m(\u001b[49m\u001b[38;5;241;43m*\u001b[39;49m\u001b[43margs\u001b[49m\u001b[43m,\u001b[49m\u001b[43m \u001b[49m\u001b[38;5;241;43m*\u001b[39;49m\u001b[38;5;241;43m*\u001b[39;49m\u001b[43mkwds\u001b[49m\u001b[43m)\u001b[49m\n",
      "File \u001b[0;32m/allen/programs/celltypes/workgroups/mousecelltypes/Hilal/miniconda3/envs/mmidas/lib/python3.10/site-packages/torch/_inductor/compile_fx.py:54\u001b[0m, in \u001b[0;36mtime_and_log.<locals>.wrap.<locals>.newFunction\u001b[0;34m(*args, **kwargs)\u001b[0m\n\u001b[1;32m     52\u001b[0m \u001b[38;5;129m@wraps\u001b[39m(old_func)\n\u001b[1;32m     53\u001b[0m \u001b[38;5;28;01mdef\u001b[39;00m \u001b[38;5;21mnewFunction\u001b[39m(\u001b[38;5;241m*\u001b[39margs, \u001b[38;5;241m*\u001b[39m\u001b[38;5;241m*\u001b[39mkwargs):\n\u001b[0;32m---> 54\u001b[0m     \u001b[38;5;28;01mreturn\u001b[39;00m \u001b[43mold_func\u001b[49m\u001b[43m(\u001b[49m\u001b[38;5;241;43m*\u001b[39;49m\u001b[43margs\u001b[49m\u001b[43m,\u001b[49m\u001b[43m \u001b[49m\u001b[38;5;241;43m*\u001b[39;49m\u001b[38;5;241;43m*\u001b[39;49m\u001b[43mkwargs\u001b[49m\u001b[43m)\u001b[49m\n",
      "File \u001b[0;32m/allen/programs/celltypes/workgroups/mousecelltypes/Hilal/miniconda3/envs/mmidas/lib/python3.10/site-packages/torch/_inductor/compile_fx.py:341\u001b[0m, in \u001b[0;36mcompile_fx_inner\u001b[0;34m(gm, example_inputs, cudagraphs, num_fixed, is_backward, graph_id, cpp_wrapper, aot_mode, is_inference, boxed_forward_device_index, user_visible_outputs, layout_opt)\u001b[0m\n\u001b[1;32m    328\u001b[0m graph_args \u001b[38;5;241m=\u001b[39m [gm, example_inputs]\n\u001b[1;32m    329\u001b[0m graph_kwargs \u001b[38;5;241m=\u001b[39m {\n\u001b[1;32m    330\u001b[0m     \u001b[38;5;124m\"\u001b[39m\u001b[38;5;124mcudagraphs\u001b[39m\u001b[38;5;124m\"\u001b[39m: cudagraphs,\n\u001b[1;32m    331\u001b[0m     \u001b[38;5;124m\"\u001b[39m\u001b[38;5;124mnum_fixed\u001b[39m\u001b[38;5;124m\"\u001b[39m: num_fixed,\n\u001b[0;32m   (...)\u001b[0m\n\u001b[1;32m    338\u001b[0m     \u001b[38;5;124m\"\u001b[39m\u001b[38;5;124mlayout_opt\u001b[39m\u001b[38;5;124m\"\u001b[39m: layout_opt,\n\u001b[1;32m    339\u001b[0m }\n\u001b[0;32m--> 341\u001b[0m compiled_graph: CompiledFxGraph \u001b[38;5;241m=\u001b[39m \u001b[43mfx_codegen_and_compile\u001b[49m\u001b[43m(\u001b[49m\n\u001b[1;32m    342\u001b[0m \u001b[43m    \u001b[49m\u001b[38;5;241;43m*\u001b[39;49m\u001b[43mgraph_args\u001b[49m\u001b[43m,\u001b[49m\u001b[43m \u001b[49m\u001b[38;5;241;43m*\u001b[39;49m\u001b[38;5;241;43m*\u001b[39;49m\u001b[43mgraph_kwargs\u001b[49m\u001b[43m  \u001b[49m\u001b[38;5;66;43;03m# type: ignore[arg-type]\u001b[39;49;00m\n\u001b[1;32m    343\u001b[0m \u001b[43m\u001b[49m\u001b[43m)\u001b[49m\n\u001b[1;32m    345\u001b[0m \u001b[38;5;28;01mif\u001b[39;00m aot_mode:\n\u001b[1;32m    346\u001b[0m     \u001b[38;5;28;01mreturn\u001b[39;00m compiled_graph\n",
      "File \u001b[0;32m/allen/programs/celltypes/workgroups/mousecelltypes/Hilal/miniconda3/envs/mmidas/lib/python3.10/site-packages/torch/_inductor/compile_fx.py:550\u001b[0m, in \u001b[0;36mfx_codegen_and_compile\u001b[0;34m(gm, example_inputs, cudagraphs, num_fixed, is_backward, graph_id, cpp_wrapper, aot_mode, is_inference, user_visible_outputs, layout_opt)\u001b[0m\n\u001b[1;32m    540\u001b[0m graph \u001b[38;5;241m=\u001b[39m GraphLowering(\n\u001b[1;32m    541\u001b[0m     gm,\n\u001b[1;32m    542\u001b[0m     shape_env\u001b[38;5;241m=\u001b[39mshape_env,\n\u001b[0;32m   (...)\u001b[0m\n\u001b[1;32m    547\u001b[0m     user_visible_outputs\u001b[38;5;241m=\u001b[39muser_visible_outputs,\n\u001b[1;32m    548\u001b[0m )\n\u001b[1;32m    549\u001b[0m \u001b[38;5;28;01mwith\u001b[39;00m V\u001b[38;5;241m.\u001b[39mset_graph_handler(graph):  \u001b[38;5;66;03m# type: ignore[call-arg]\u001b[39;00m\n\u001b[0;32m--> 550\u001b[0m     \u001b[43mgraph\u001b[49m\u001b[38;5;241;43m.\u001b[39;49m\u001b[43mrun\u001b[49m\u001b[43m(\u001b[49m\u001b[38;5;241;43m*\u001b[39;49m\u001b[43mexample_inputs\u001b[49m\u001b[43m)\u001b[49m\n\u001b[1;32m    551\u001b[0m     context \u001b[38;5;241m=\u001b[39m torch\u001b[38;5;241m.\u001b[39m_guards\u001b[38;5;241m.\u001b[39mTracingContext\u001b[38;5;241m.\u001b[39mget()\n\u001b[1;32m    552\u001b[0m     \u001b[38;5;28;01mif\u001b[39;00m context \u001b[38;5;129;01mis\u001b[39;00m \u001b[38;5;129;01mnot\u001b[39;00m \u001b[38;5;28;01mNone\u001b[39;00m \u001b[38;5;129;01mand\u001b[39;00m context\u001b[38;5;241m.\u001b[39moutput_strides \u001b[38;5;129;01mis\u001b[39;00m \u001b[38;5;129;01mnot\u001b[39;00m \u001b[38;5;28;01mNone\u001b[39;00m:\n\u001b[1;32m    553\u001b[0m         \u001b[38;5;66;03m# Return the output strides to the caller via TracingContext\u001b[39;00m\n",
      "File \u001b[0;32m/allen/programs/celltypes/workgroups/mousecelltypes/Hilal/miniconda3/envs/mmidas/lib/python3.10/site-packages/torch/_dynamo/utils.py:189\u001b[0m, in \u001b[0;36mdynamo_timed.<locals>.dynamo_timed_inner.<locals>.time_wrapper\u001b[0;34m(*args, **kwargs)\u001b[0m\n\u001b[1;32m    187\u001b[0m \u001b[38;5;28;01mwith\u001b[39;00m torch\u001b[38;5;241m.\u001b[39mprofiler\u001b[38;5;241m.\u001b[39mrecord_function(\u001b[38;5;124mf\u001b[39m\u001b[38;5;124m\"\u001b[39m\u001b[38;5;132;01m{\u001b[39;00mkey\u001b[38;5;132;01m}\u001b[39;00m\u001b[38;5;124m (dynamo_timed)\u001b[39m\u001b[38;5;124m\"\u001b[39m):\n\u001b[1;32m    188\u001b[0m     t0 \u001b[38;5;241m=\u001b[39m time\u001b[38;5;241m.\u001b[39mtime()\n\u001b[0;32m--> 189\u001b[0m     r \u001b[38;5;241m=\u001b[39m \u001b[43mfunc\u001b[49m\u001b[43m(\u001b[49m\u001b[38;5;241;43m*\u001b[39;49m\u001b[43margs\u001b[49m\u001b[43m,\u001b[49m\u001b[43m \u001b[49m\u001b[38;5;241;43m*\u001b[39;49m\u001b[38;5;241;43m*\u001b[39;49m\u001b[43mkwargs\u001b[49m\u001b[43m)\u001b[49m\n\u001b[1;32m    190\u001b[0m     time_spent \u001b[38;5;241m=\u001b[39m time\u001b[38;5;241m.\u001b[39mtime() \u001b[38;5;241m-\u001b[39m t0\n\u001b[1;32m    191\u001b[0m compilation_time_metrics[key]\u001b[38;5;241m.\u001b[39mappend(time_spent)\n",
      "File \u001b[0;32m/allen/programs/celltypes/workgroups/mousecelltypes/Hilal/miniconda3/envs/mmidas/lib/python3.10/site-packages/torch/_inductor/graph.py:456\u001b[0m, in \u001b[0;36mGraphLowering.run\u001b[0;34m(self, *args)\u001b[0m\n\u001b[1;32m    454\u001b[0m \u001b[38;5;129m@dynamo_timed\u001b[39m\n\u001b[1;32m    455\u001b[0m \u001b[38;5;28;01mdef\u001b[39;00m \u001b[38;5;21mrun\u001b[39m(\u001b[38;5;28mself\u001b[39m, \u001b[38;5;241m*\u001b[39margs):\n\u001b[0;32m--> 456\u001b[0m     \u001b[38;5;28;01mreturn\u001b[39;00m \u001b[38;5;28;43msuper\u001b[39;49m\u001b[43m(\u001b[49m\u001b[43m)\u001b[49m\u001b[38;5;241;43m.\u001b[39;49m\u001b[43mrun\u001b[49m\u001b[43m(\u001b[49m\u001b[38;5;241;43m*\u001b[39;49m\u001b[43margs\u001b[49m\u001b[43m)\u001b[49m\n",
      "File \u001b[0;32m/allen/programs/celltypes/workgroups/mousecelltypes/Hilal/miniconda3/envs/mmidas/lib/python3.10/site-packages/torch/fx/interpreter.py:138\u001b[0m, in \u001b[0;36mInterpreter.run\u001b[0;34m(self, initial_env, enable_io_processing, *args)\u001b[0m\n\u001b[1;32m    135\u001b[0m     \u001b[38;5;28;01mcontinue\u001b[39;00m\n\u001b[1;32m    137\u001b[0m \u001b[38;5;28;01mtry\u001b[39;00m:\n\u001b[0;32m--> 138\u001b[0m     \u001b[38;5;28mself\u001b[39m\u001b[38;5;241m.\u001b[39menv[node] \u001b[38;5;241m=\u001b[39m \u001b[38;5;28;43mself\u001b[39;49m\u001b[38;5;241;43m.\u001b[39;49m\u001b[43mrun_node\u001b[49m\u001b[43m(\u001b[49m\u001b[43mnode\u001b[49m\u001b[43m)\u001b[49m\n\u001b[1;32m    139\u001b[0m \u001b[38;5;28;01mexcept\u001b[39;00m \u001b[38;5;167;01mException\u001b[39;00m \u001b[38;5;28;01mas\u001b[39;00m e:\n\u001b[1;32m    140\u001b[0m     \u001b[38;5;28;01mif\u001b[39;00m \u001b[38;5;28mself\u001b[39m\u001b[38;5;241m.\u001b[39mextra_traceback:\n",
      "File \u001b[0;32m/allen/programs/celltypes/workgroups/mousecelltypes/Hilal/miniconda3/envs/mmidas/lib/python3.10/site-packages/torch/_inductor/graph.py:722\u001b[0m, in \u001b[0;36mGraphLowering.run_node\u001b[0;34m(self, n)\u001b[0m\n\u001b[1;32m    720\u001b[0m         result \u001b[38;5;241m=\u001b[39m \u001b[38;5;28msuper\u001b[39m()\u001b[38;5;241m.\u001b[39mrun_node(n)\n\u001b[1;32m    721\u001b[0m \u001b[38;5;28;01melse\u001b[39;00m:\n\u001b[0;32m--> 722\u001b[0m     result \u001b[38;5;241m=\u001b[39m \u001b[38;5;28;43msuper\u001b[39;49m\u001b[43m(\u001b[49m\u001b[43m)\u001b[49m\u001b[38;5;241;43m.\u001b[39;49m\u001b[43mrun_node\u001b[49m\u001b[43m(\u001b[49m\u001b[43mn\u001b[49m\u001b[43m)\u001b[49m\n\u001b[1;32m    724\u001b[0m \u001b[38;5;66;03m# require the same stride order for dense outputs,\u001b[39;00m\n\u001b[1;32m    725\u001b[0m \u001b[38;5;66;03m# 1. user-land view() will not throw because inductor\u001b[39;00m\n\u001b[1;32m    726\u001b[0m \u001b[38;5;66;03m# output different strides than eager\u001b[39;00m\n\u001b[0;32m   (...)\u001b[0m\n\u001b[1;32m    729\u001b[0m \u001b[38;5;66;03m# 2: as_strided ops, we need make sure its input has same size/stride with\u001b[39;00m\n\u001b[1;32m    730\u001b[0m \u001b[38;5;66;03m# eager model to align with eager behavior.\u001b[39;00m\n\u001b[1;32m    731\u001b[0m as_strided_ops \u001b[38;5;241m=\u001b[39m [\n\u001b[1;32m    732\u001b[0m     torch\u001b[38;5;241m.\u001b[39mops\u001b[38;5;241m.\u001b[39maten\u001b[38;5;241m.\u001b[39mas_strided\u001b[38;5;241m.\u001b[39mdefault,\n\u001b[1;32m    733\u001b[0m     torch\u001b[38;5;241m.\u001b[39mops\u001b[38;5;241m.\u001b[39maten\u001b[38;5;241m.\u001b[39mas_strided_\u001b[38;5;241m.\u001b[39mdefault,\n\u001b[1;32m    734\u001b[0m     torch\u001b[38;5;241m.\u001b[39mops\u001b[38;5;241m.\u001b[39maten\u001b[38;5;241m.\u001b[39mas_strided_scatter\u001b[38;5;241m.\u001b[39mdefault,\n\u001b[1;32m    735\u001b[0m ]\n",
      "File \u001b[0;32m/allen/programs/celltypes/workgroups/mousecelltypes/Hilal/miniconda3/envs/mmidas/lib/python3.10/site-packages/torch/fx/interpreter.py:195\u001b[0m, in \u001b[0;36mInterpreter.run_node\u001b[0;34m(self, n)\u001b[0m\n\u001b[1;32m    193\u001b[0m \u001b[38;5;28;01massert\u001b[39;00m \u001b[38;5;28misinstance\u001b[39m(args, \u001b[38;5;28mtuple\u001b[39m)\n\u001b[1;32m    194\u001b[0m \u001b[38;5;28;01massert\u001b[39;00m \u001b[38;5;28misinstance\u001b[39m(kwargs, \u001b[38;5;28mdict\u001b[39m)\n\u001b[0;32m--> 195\u001b[0m \u001b[38;5;28;01mreturn\u001b[39;00m \u001b[38;5;28;43mgetattr\u001b[39;49m\u001b[43m(\u001b[49m\u001b[38;5;28;43mself\u001b[39;49m\u001b[43m,\u001b[49m\u001b[43m \u001b[49m\u001b[43mn\u001b[49m\u001b[38;5;241;43m.\u001b[39;49m\u001b[43mop\u001b[49m\u001b[43m)\u001b[49m\u001b[43m(\u001b[49m\u001b[43mn\u001b[49m\u001b[38;5;241;43m.\u001b[39;49m\u001b[43mtarget\u001b[49m\u001b[43m,\u001b[49m\u001b[43m \u001b[49m\u001b[43margs\u001b[49m\u001b[43m,\u001b[49m\u001b[43m \u001b[49m\u001b[43mkwargs\u001b[49m\u001b[43m)\u001b[49m\n",
      "File \u001b[0;32m/allen/programs/celltypes/workgroups/mousecelltypes/Hilal/miniconda3/envs/mmidas/lib/python3.10/site-packages/torch/_inductor/graph.py:613\u001b[0m, in \u001b[0;36mGraphLowering.call_function\u001b[0;34m(self, target, args, kwargs)\u001b[0m\n\u001b[1;32m    611\u001b[0m     \u001b[38;5;28;01mreturn\u001b[39;00m out\n\u001b[1;32m    612\u001b[0m \u001b[38;5;28;01mexcept\u001b[39;00m \u001b[38;5;167;01mException\u001b[39;00m \u001b[38;5;28;01mas\u001b[39;00m e:\n\u001b[0;32m--> 613\u001b[0m     \u001b[38;5;28;01mraise\u001b[39;00m LoweringException(e, target, args, kwargs)\u001b[38;5;241m.\u001b[39mwith_traceback(\n\u001b[1;32m    614\u001b[0m         e\u001b[38;5;241m.\u001b[39m__traceback__\n\u001b[1;32m    615\u001b[0m     ) \u001b[38;5;28;01mfrom\u001b[39;00m \u001b[38;5;28;01mNone\u001b[39;00m\n",
      "File \u001b[0;32m/allen/programs/celltypes/workgroups/mousecelltypes/Hilal/miniconda3/envs/mmidas/lib/python3.10/site-packages/torch/_inductor/graph.py:610\u001b[0m, in \u001b[0;36mGraphLowering.call_function\u001b[0;34m(self, target, args, kwargs)\u001b[0m\n\u001b[1;32m    607\u001b[0m         \u001b[38;5;28;01mraise\u001b[39;00m MissingOperatorWithoutDecomp(target, args, kwargs)\n\u001b[1;32m    609\u001b[0m \u001b[38;5;28;01mtry\u001b[39;00m:\n\u001b[0;32m--> 610\u001b[0m     out \u001b[38;5;241m=\u001b[39m \u001b[43mlowerings\u001b[49m\u001b[43m[\u001b[49m\u001b[43mtarget\u001b[49m\u001b[43m]\u001b[49m\u001b[43m(\u001b[49m\u001b[38;5;241;43m*\u001b[39;49m\u001b[43margs\u001b[49m\u001b[43m,\u001b[49m\u001b[43m \u001b[49m\u001b[38;5;241;43m*\u001b[39;49m\u001b[38;5;241;43m*\u001b[39;49m\u001b[43mkwargs\u001b[49m\u001b[43m)\u001b[49m\n\u001b[1;32m    611\u001b[0m     \u001b[38;5;28;01mreturn\u001b[39;00m out\n\u001b[1;32m    612\u001b[0m \u001b[38;5;28;01mexcept\u001b[39;00m \u001b[38;5;167;01mException\u001b[39;00m \u001b[38;5;28;01mas\u001b[39;00m e:\n",
      "File \u001b[0;32m/allen/programs/celltypes/workgroups/mousecelltypes/Hilal/miniconda3/envs/mmidas/lib/python3.10/site-packages/torch/_inductor/lowering.py:279\u001b[0m, in \u001b[0;36m_register_lowering.<locals>.wrapped\u001b[0;34m(*args, **kwargs)\u001b[0m\n\u001b[1;32m    276\u001b[0m \u001b[38;5;28;01mif\u001b[39;00m unpacked:\n\u001b[1;32m    277\u001b[0m     args \u001b[38;5;241m=\u001b[39m [args]\n\u001b[0;32m--> 279\u001b[0m out \u001b[38;5;241m=\u001b[39m \u001b[43mdecomp_fn\u001b[49m\u001b[43m(\u001b[49m\u001b[38;5;241;43m*\u001b[39;49m\u001b[43margs\u001b[49m\u001b[43m,\u001b[49m\u001b[43m \u001b[49m\u001b[38;5;241;43m*\u001b[39;49m\u001b[38;5;241;43m*\u001b[39;49m\u001b[43mkwargs\u001b[49m\u001b[43m)\u001b[49m\n\u001b[1;32m    280\u001b[0m validate_ir(out)\n\u001b[1;32m    282\u001b[0m \u001b[38;5;28;01mreturn\u001b[39;00m out\n",
      "File \u001b[0;32m/allen/programs/celltypes/workgroups/mousecelltypes/Hilal/miniconda3/envs/mmidas/lib/python3.10/site-packages/torch/_inductor/kernel/mm.py:171\u001b[0m, in \u001b[0;36mtuned_addmm\u001b[0;34m(inp, mat1, mat2, alpha, beta, layout)\u001b[0m\n\u001b[1;32m    157\u001b[0m \u001b[38;5;28;01mif\u001b[39;00m m \u001b[38;5;241m*\u001b[39m n \u001b[38;5;241m==\u001b[39m \u001b[38;5;241m0\u001b[39m \u001b[38;5;129;01mor\u001b[39;00m \u001b[38;5;129;01mnot\u001b[39;00m use_triton_template(layout):\n\u001b[1;32m    158\u001b[0m     choices \u001b[38;5;241m=\u001b[39m (\n\u001b[1;32m    159\u001b[0m         [\n\u001b[1;32m    160\u001b[0m             aten_addmm\u001b[38;5;241m.\u001b[39mbind(\n\u001b[0;32m   (...)\u001b[0m\n\u001b[1;32m    169\u001b[0m         \u001b[38;5;28;01melse\u001b[39;00m []\n\u001b[1;32m    170\u001b[0m     )\n\u001b[0;32m--> 171\u001b[0m     \u001b[38;5;28;01mreturn\u001b[39;00m \u001b[43mautotune_select_algorithm\u001b[49m\u001b[43m(\u001b[49m\u001b[38;5;124;43m\"\u001b[39;49m\u001b[38;5;124;43maddmm\u001b[39;49m\u001b[38;5;124;43m\"\u001b[39;49m\u001b[43m,\u001b[49m\u001b[43m \u001b[49m\u001b[43mchoices\u001b[49m\u001b[43m,\u001b[49m\u001b[43m \u001b[49m\u001b[43m[\u001b[49m\u001b[43minp\u001b[49m\u001b[43m,\u001b[49m\u001b[43m \u001b[49m\u001b[43mmat1\u001b[49m\u001b[43m,\u001b[49m\u001b[43m \u001b[49m\u001b[43mmat2\u001b[49m\u001b[43m]\u001b[49m\u001b[43m,\u001b[49m\u001b[43m \u001b[49m\u001b[43mlayout\u001b[49m\u001b[43m)\u001b[49m\n\u001b[1;32m    173\u001b[0m choices \u001b[38;5;241m=\u001b[39m (\n\u001b[1;32m    174\u001b[0m     [\n\u001b[1;32m    175\u001b[0m         aten_addmm\u001b[38;5;241m.\u001b[39mbind(\n\u001b[0;32m   (...)\u001b[0m\n\u001b[1;32m    184\u001b[0m     \u001b[38;5;28;01melse\u001b[39;00m []\n\u001b[1;32m    185\u001b[0m )\n\u001b[1;32m    186\u001b[0m \u001b[38;5;28;01mif\u001b[39;00m (\n\u001b[1;32m    187\u001b[0m     inp_expanded\u001b[38;5;241m.\u001b[39mget_stride()[\u001b[38;5;241m0\u001b[39m] \u001b[38;5;241m==\u001b[39m \u001b[38;5;241m0\u001b[39m\n\u001b[1;32m    188\u001b[0m     \u001b[38;5;129;01mand\u001b[39;00m inp_expanded\u001b[38;5;241m.\u001b[39mget_device()\u001b[38;5;241m.\u001b[39mtype \u001b[38;5;241m==\u001b[39m \u001b[38;5;124m\"\u001b[39m\u001b[38;5;124mcuda\u001b[39m\u001b[38;5;124m\"\u001b[39m\n\u001b[1;32m    189\u001b[0m     \u001b[38;5;129;01mand\u001b[39;00m inductor_config\u001b[38;5;241m.\u001b[39mtriton\u001b[38;5;241m.\u001b[39mautotune_cublasLt\n\u001b[1;32m    190\u001b[0m ):\n\u001b[1;32m    191\u001b[0m     \u001b[38;5;66;03m# unexpand inp to make sure fused addmm from cublasLt is used\u001b[39;00m\n",
      "File \u001b[0;32m/allen/programs/celltypes/workgroups/mousecelltypes/Hilal/miniconda3/envs/mmidas/lib/python3.10/site-packages/torch/_inductor/select_algorithm.py:963\u001b[0m, in \u001b[0;36mautotune_select_algorithm\u001b[0;34m(*args, **kwargs)\u001b[0m\n\u001b[1;32m    961\u001b[0m \u001b[38;5;28;01mglobal\u001b[39;00m _ALGORITHM_SELECTOR_CACHE\n\u001b[1;32m    962\u001b[0m \u001b[38;5;28;01mif\u001b[39;00m _ALGORITHM_SELECTOR_CACHE \u001b[38;5;129;01mis\u001b[39;00m \u001b[38;5;28;01mNone\u001b[39;00m:\n\u001b[0;32m--> 963\u001b[0m     _ALGORITHM_SELECTOR_CACHE \u001b[38;5;241m=\u001b[39m \u001b[43mAlgorithmSelectorCache\u001b[49m\u001b[43m(\u001b[49m\u001b[43m)\u001b[49m\n\u001b[1;32m    964\u001b[0m \u001b[38;5;28;01mreturn\u001b[39;00m _ALGORITHM_SELECTOR_CACHE(\u001b[38;5;241m*\u001b[39margs, \u001b[38;5;241m*\u001b[39m\u001b[38;5;241m*\u001b[39mkwargs)\n",
      "File \u001b[0;32m/allen/programs/celltypes/workgroups/mousecelltypes/Hilal/miniconda3/envs/mmidas/lib/python3.10/site-packages/torch/_inductor/codecache.py:165\u001b[0m, in \u001b[0;36mCacheBase.__init__\u001b[0;34m(self)\u001b[0m\n\u001b[1;32m    162\u001b[0m \u001b[38;5;28;01mif\u001b[39;00m \u001b[38;5;129;01mnot\u001b[39;00m torch\u001b[38;5;241m.\u001b[39mcuda\u001b[38;5;241m.\u001b[39mis_available():\n\u001b[1;32m    163\u001b[0m     \u001b[38;5;28;01mreturn\u001b[39;00m\n\u001b[0;32m--> 165\u001b[0m \u001b[38;5;28mself\u001b[39m\u001b[38;5;241m.\u001b[39msystem \u001b[38;5;241m=\u001b[39m \u001b[43mCacheBase\u001b[49m\u001b[38;5;241;43m.\u001b[39;49m\u001b[43mget_system\u001b[49m\u001b[43m(\u001b[49m\u001b[43m)\u001b[49m\n\u001b[1;32m    167\u001b[0m \u001b[38;5;28mself\u001b[39m\u001b[38;5;241m.\u001b[39mlocal_cache_path \u001b[38;5;241m=\u001b[39m CacheBase\u001b[38;5;241m.\u001b[39mget_local_cache_path()\n\u001b[1;32m    168\u001b[0m \u001b[38;5;28mself\u001b[39m\u001b[38;5;241m.\u001b[39mglobal_cache_path \u001b[38;5;241m=\u001b[39m CacheBase\u001b[38;5;241m.\u001b[39mget_global_cache_path()\n",
      "File \u001b[0;32m/allen/programs/celltypes/workgroups/mousecelltypes/Hilal/miniconda3/envs/mmidas/lib/python3.10/site-packages/torch/_inductor/codecache.py:120\u001b[0m, in \u001b[0;36mCacheBase.get_system\u001b[0;34m()\u001b[0m\n\u001b[1;32m    116\u001b[0m \u001b[38;5;129m@staticmethod\u001b[39m\n\u001b[1;32m    117\u001b[0m \u001b[38;5;129m@functools\u001b[39m\u001b[38;5;241m.\u001b[39mlru_cache(\u001b[38;5;28;01mNone\u001b[39;00m)\n\u001b[1;32m    118\u001b[0m \u001b[38;5;28;01mdef\u001b[39;00m \u001b[38;5;21mget_system\u001b[39m():\n\u001b[1;32m    119\u001b[0m     \u001b[38;5;28;01mtry\u001b[39;00m:\n\u001b[0;32m--> 120\u001b[0m         \u001b[38;5;28;01mimport\u001b[39;00m \u001b[38;5;21;01mtriton\u001b[39;00m\n\u001b[1;32m    122\u001b[0m         triton_version \u001b[38;5;241m=\u001b[39m triton\u001b[38;5;241m.\u001b[39m__version__\n\u001b[1;32m    123\u001b[0m     \u001b[38;5;28;01mexcept\u001b[39;00m \u001b[38;5;167;01mModuleNotFoundError\u001b[39;00m:\n",
      "File \u001b[0;32m/allen/programs/celltypes/workgroups/mousecelltypes/Hilal/miniconda3/envs/mmidas/lib/python3.10/site-packages/triton/__init__.py:10\u001b[0m\n\u001b[1;32m      8\u001b[0m \u001b[38;5;66;03m# submodules\u001b[39;00m\n\u001b[1;32m      9\u001b[0m \u001b[38;5;28;01mfrom\u001b[39;00m \u001b[38;5;21;01m.\u001b[39;00m\u001b[38;5;21;01mutils\u001b[39;00m \u001b[38;5;28;01mimport\u001b[39;00m \u001b[38;5;241m*\u001b[39m\n\u001b[0;32m---> 10\u001b[0m \u001b[38;5;28;01mfrom\u001b[39;00m \u001b[38;5;21;01m.\u001b[39;00m\u001b[38;5;21;01mruntime\u001b[39;00m \u001b[38;5;28;01mimport\u001b[39;00m Config, autotune, heuristics, JITFunction, KernelInterface\n\u001b[1;32m     11\u001b[0m \u001b[38;5;28;01mfrom\u001b[39;00m \u001b[38;5;21;01m.\u001b[39;00m\u001b[38;5;21;01mruntime\u001b[39;00m\u001b[38;5;21;01m.\u001b[39;00m\u001b[38;5;21;01mjit\u001b[39;00m \u001b[38;5;28;01mimport\u001b[39;00m jit\n\u001b[1;32m     12\u001b[0m \u001b[38;5;28;01mfrom\u001b[39;00m \u001b[38;5;21;01m.\u001b[39;00m\u001b[38;5;21;01mcompiler\u001b[39;00m \u001b[38;5;28;01mimport\u001b[39;00m \u001b[38;5;28mcompile\u001b[39m, CompilationError\n",
      "File \u001b[0;32m/allen/programs/celltypes/workgroups/mousecelltypes/Hilal/miniconda3/envs/mmidas/lib/python3.10/site-packages/triton/runtime/__init__.py:1\u001b[0m\n\u001b[0;32m----> 1\u001b[0m \u001b[38;5;28;01mfrom\u001b[39;00m \u001b[38;5;21;01m.\u001b[39;00m\u001b[38;5;21;01mautotuner\u001b[39;00m \u001b[38;5;28;01mimport\u001b[39;00m Config, Heuristics, autotune, heuristics  \u001b[38;5;66;03m# noqa: F401\u001b[39;00m\n\u001b[1;32m      2\u001b[0m \u001b[38;5;28;01mfrom\u001b[39;00m \u001b[38;5;21;01m.\u001b[39;00m\u001b[38;5;21;01mjit\u001b[39;00m \u001b[38;5;28;01mimport\u001b[39;00m JITFunction, KernelInterface, version_key\n",
      "File \u001b[0;32m/allen/programs/celltypes/workgroups/mousecelltypes/Hilal/miniconda3/envs/mmidas/lib/python3.10/site-packages/triton/runtime/autotuner.py:7\u001b[0m\n\u001b[1;32m      4\u001b[0m \u001b[38;5;28;01mimport\u001b[39;00m \u001b[38;5;21;01mtime\u001b[39;00m\n\u001b[1;32m      5\u001b[0m \u001b[38;5;28;01mfrom\u001b[39;00m \u001b[38;5;21;01mtyping\u001b[39;00m \u001b[38;5;28;01mimport\u001b[39;00m Dict\n\u001b[0;32m----> 7\u001b[0m \u001b[38;5;28;01mfrom\u001b[39;00m \u001b[38;5;21;01m.\u001b[39;00m\u001b[38;5;21;01m.\u001b[39;00m\u001b[38;5;21;01mtesting\u001b[39;00m \u001b[38;5;28;01mimport\u001b[39;00m do_bench\n\u001b[1;32m      8\u001b[0m \u001b[38;5;28;01mfrom\u001b[39;00m \u001b[38;5;21;01m.\u001b[39;00m\u001b[38;5;21;01mjit\u001b[39;00m \u001b[38;5;28;01mimport\u001b[39;00m KernelInterface\n\u001b[1;32m     11\u001b[0m \u001b[38;5;28;01mclass\u001b[39;00m \u001b[38;5;21;01mAutotuner\u001b[39;00m(KernelInterface):\n",
      "File \u001b[0;32m/allen/programs/celltypes/workgroups/mousecelltypes/Hilal/miniconda3/envs/mmidas/lib/python3.10/site-packages/triton/testing.py:10\u001b[0m\n\u001b[1;32m      7\u001b[0m \u001b[38;5;28;01mimport\u001b[39;00m \u001b[38;5;21;01mtorch\u001b[39;00m\n\u001b[1;32m      9\u001b[0m \u001b[38;5;28;01mimport\u001b[39;00m \u001b[38;5;21;01mtriton\u001b[39;00m\u001b[38;5;21;01m.\u001b[39;00m\u001b[38;5;21;01m_C\u001b[39;00m\u001b[38;5;21;01m.\u001b[39;00m\u001b[38;5;21;01mlibtriton\u001b[39;00m\u001b[38;5;21;01m.\u001b[39;00m\u001b[38;5;21;01mtriton\u001b[39;00m \u001b[38;5;28;01mas\u001b[39;00m \u001b[38;5;21;01m_triton\u001b[39;00m\n\u001b[0;32m---> 10\u001b[0m \u001b[38;5;28;01mfrom\u001b[39;00m \u001b[38;5;21;01m.\u001b[39;00m\u001b[38;5;21;01mcompiler\u001b[39;00m \u001b[38;5;28;01mimport\u001b[39;00m OutOfResources\n\u001b[1;32m     12\u001b[0m \u001b[38;5;28;01mtry\u001b[39;00m:\n\u001b[1;32m     13\u001b[0m     \u001b[38;5;28;01mimport\u001b[39;00m \u001b[38;5;21;01mtriton\u001b[39;00m\u001b[38;5;21;01m.\u001b[39;00m\u001b[38;5;21;01m_C\u001b[39;00m\u001b[38;5;21;01m.\u001b[39;00m\u001b[38;5;21;01mlibtriton\u001b[39;00m\u001b[38;5;21;01m.\u001b[39;00m\u001b[38;5;21;01mcutlass\u001b[39;00m \u001b[38;5;28;01mas\u001b[39;00m \u001b[38;5;21;01m_cutlass\u001b[39;00m\n",
      "File \u001b[0;32m/allen/programs/celltypes/workgroups/mousecelltypes/Hilal/miniconda3/envs/mmidas/lib/python3.10/site-packages/triton/compiler/__init__.py:1\u001b[0m\n\u001b[0;32m----> 1\u001b[0m \u001b[38;5;28;01mfrom\u001b[39;00m \u001b[38;5;21;01m.\u001b[39;00m\u001b[38;5;21;01mcompiler\u001b[39;00m \u001b[38;5;28;01mimport\u001b[39;00m CompiledKernel, \u001b[38;5;28mcompile\u001b[39m, instance_descriptor\n\u001b[1;32m      2\u001b[0m \u001b[38;5;28;01mfrom\u001b[39;00m \u001b[38;5;21;01m.\u001b[39;00m\u001b[38;5;21;01merrors\u001b[39;00m \u001b[38;5;28;01mimport\u001b[39;00m CompilationError\n\u001b[1;32m      4\u001b[0m __all__ \u001b[38;5;241m=\u001b[39m [\u001b[38;5;124m\"\u001b[39m\u001b[38;5;124mcompile\u001b[39m\u001b[38;5;124m\"\u001b[39m, \u001b[38;5;124m\"\u001b[39m\u001b[38;5;124minstance_descriptor\u001b[39m\u001b[38;5;124m\"\u001b[39m, \u001b[38;5;124m\"\u001b[39m\u001b[38;5;124mCompiledKernel\u001b[39m\u001b[38;5;124m\"\u001b[39m, \u001b[38;5;124m\"\u001b[39m\u001b[38;5;124mCompilationError\u001b[39m\u001b[38;5;124m\"\u001b[39m]\n",
      "File \u001b[0;32m/allen/programs/celltypes/workgroups/mousecelltypes/Hilal/miniconda3/envs/mmidas/lib/python3.10/site-packages/triton/compiler/compiler.py:14\u001b[0m\n\u001b[1;32m     11\u001b[0m \u001b[38;5;28;01mfrom\u001b[39;00m \u001b[38;5;21;01mpathlib\u001b[39;00m \u001b[38;5;28;01mimport\u001b[39;00m Path\n\u001b[1;32m     12\u001b[0m \u001b[38;5;28;01mfrom\u001b[39;00m \u001b[38;5;21;01mtyping\u001b[39;00m \u001b[38;5;28;01mimport\u001b[39;00m Any, Tuple\n\u001b[0;32m---> 14\u001b[0m \u001b[38;5;28;01mfrom\u001b[39;00m \u001b[38;5;21;01m.\u001b[39;00m\u001b[38;5;21;01m.\u001b[39;00m\u001b[38;5;21;01m_C\u001b[39;00m\u001b[38;5;21;01m.\u001b[39;00m\u001b[38;5;21;01mlibtriton\u001b[39;00m\u001b[38;5;21;01m.\u001b[39;00m\u001b[38;5;21;01mtriton\u001b[39;00m \u001b[38;5;28;01mimport\u001b[39;00m (add_external_libs, compile_ptx_to_cubin,\n\u001b[1;32m     15\u001b[0m                                    get_shared_memory_size, ir,\n\u001b[1;32m     16\u001b[0m                                    translate_llvmir_to_hsaco, translate_llvmir_to_ptx,\n\u001b[1;32m     17\u001b[0m                                    translate_triton_gpu_to_llvmir)\n\u001b[1;32m     18\u001b[0m \u001b[38;5;28;01mfrom\u001b[39;00m \u001b[38;5;21;01m.\u001b[39;00m\u001b[38;5;21;01m.\u001b[39;00m\u001b[38;5;21;01mcommon\u001b[39;00m\u001b[38;5;21;01m.\u001b[39;00m\u001b[38;5;21;01mbackend\u001b[39;00m \u001b[38;5;28;01mimport\u001b[39;00m get_backend, path_to_ptxas\n\u001b[1;32m     19\u001b[0m \u001b[38;5;66;03m# from ..runtime import driver, jit, JITFunction\u001b[39;00m\n\u001b[1;32m     20\u001b[0m \u001b[38;5;66;03m# TODO: runtime.errors\u001b[39;00m\n",
      "\u001b[0;31mBackendCompilerFailed\u001b[0m: backend='inductor' raised:\nLoweringException: ImportError: cannot import name 'add_external_libs' from 'triton._C.libtriton.triton' (unknown location)\n  target: aten.addmm.default\n  args[0]: TensorBox(StorageBox(\n    InputBuffer(name='primals_2', layout=FixedLayout('cuda', torch.float32, size=[100], stride=[1]))\n  ))\n  args[1]: TensorBox(StorageBox(\n    ComputedBuffer(name='buf2', layout=FixedLayout('cuda', torch.float32, size=[5000, 5032], stride=[5032, 1]), data=Pointwise(\n      'cuda',\n      torch.float32,\n      def inner_fn(index):\n          i0, i1 = index\n          tmp0 = ops.load(buf1, i1 + 5032 * i0)\n          tmp1 = ops.constant(0.5, torch.float32)\n          tmp2 = tmp0 > tmp1\n          tmp3 = ops.to_dtype(tmp2, torch.float32)\n          tmp4 = ops.load(primals_87, i1 + 5032 * i0)\n          tmp5 = tmp3 * tmp4\n          tmp6 = ops.constant(2.0, torch.float32)\n          tmp7 = tmp5 * tmp6\n          return tmp7\n      ,\n      ranges=[5000, 5032],\n      origin_node=mul_1,\n      origins={gt, mul_1, mul}\n    ))\n  ))\n  args[2]: TensorBox(\n    ReinterpretView(\n      StorageBox(\n        InputBuffer(name='primals_1', layout=FixedLayout('cuda', torch.float32, size=[100, 5032], stride=[5032, 1]))\n      ),\n      FixedLayout('cuda', torch.float32, size=[5032, 100], stride=[1, 5032]),\n      origins={permute}\n    )\n  )\n\nSet TORCH_LOGS=\"+dynamo\" and TORCHDYNAMO_VERBOSE=1 for more information\n\n\nYou can suppress this exception and fall back to eager by setting:\n    import torch._dynamo\n    torch._dynamo.config.suppress_errors = True\n"
     ]
    }
   ],
   "source": [
    "importlib.reload(mmidas.cpl_mixvae)\n",
    "importlib.reload(mmidas.nn_model)\n",
    "from mmidas.cpl_mixvae import cpl_mixVAE\n",
    "\n",
    "cplMixVAE = cpl_mixVAE(saving_folder=saving_folder, device='cuda', seed=546)\n",
    "cplMixVAE.init(categories=n_categories,\n",
    "                     state_dim=state_dim,\n",
    "                     input_dim=data['log1p'].shape[1],\n",
    "                     lowD_dim=latent_dim,\n",
    "                     lr=lr,\n",
    "                     arms=n_arm,)\n",
    "\n",
    "fsdp_dct = cplMixVAE._fsdp(train_loader=trainloader,\n",
    "                           val_loader=testloader,\n",
    "                           epochs=n_epoch,\n",
    "                           n_epoch_p=n_epoch_p,\n",
    "                           min_con=min_con,\n",
    "                           max_prun_it=max_prun_it,\n",
    "                           device=cplMixVAE.device,\n",
    "                           model=cplMixVAE.model,\n",
    "                           opt=cplMixVAE.optimizer)\n",
    "\n",
    "# TODO:\n",
    "# fix nans"
   ]
  },
  {
   "cell_type": "code",
   "execution_count": null,
   "metadata": {},
   "outputs": [],
   "source": [
    "# Start training ...\n",
    "# ====> Epoch:0, Total Loss: 137667456.0000, Rec_arm_1: 8.7999, Rec_arm_2: 8.7966, Joint Loss: 137578912.0000, Entropy: -7.1332, Distance: 0.4805, Elapsed Time:4.13\n",
    "# ====> Validation Total Loss: 28064712704.0000, Rec. Loss: 8.7721\n",
    "# ====> Epoch:1, Total Loss: 69825152.0000, Rec_arm_1: 8.7497, Rec_arm_2: 8.7451, Joint Loss: 69737120.0000, Entropy: -7.3747, Distance: 0.4512, Elapsed Time:3.64\n",
    "# ====> Validation Total Loss: 25941938176.0000, Rec. Loss: 8.6993\n",
    "# ====> Epoch:2, Total Loss: 42043478.0000, Rec_arm_1: 8.6571, Rec_arm_2: 8.6533, Joint Loss: 41956372.0000, Entropy: -7.3914, Distance: 0.4467, Elapsed Time:3.58\n",
    "# ====> Validation Total Loss: 22861494272.0000, Rec. Loss: 8.5640\n",
    "# ====> Epoch:3, Total Loss: 26674182.0000, Rec_arm_1: 8.4823, Rec_arm_2: 8.4839, Joint Loss: 26588808.0000, Entropy: -7.5388, Distance: 0.4278, Elapsed Time:3.60\n",
    "# ====> Validation Total Loss: 20230934528.0000, Rec. Loss: 8.3146\n",
    "# ====> Epoch:4, Total Loss: 17169558.2500, Rec_arm_1: 8.1604, Rec_arm_2: 8.1765, Joint Loss: 17087350.0000, Entropy: -7.6280, Distance: 0.4243, Elapsed Time:3.65\n",
    "# ====> Validation Total Loss: 20135974912.0000, Rec. Loss: 7.8776\n",
    "# ====> Epoch:5, Total Loss: 11332364.7500, Rec_arm_1: 7.5881, Rec_arm_2: 7.6376, Joint Loss: 11255748.0000, Entropy: -7.7191, Distance: 0.4143, Elapsed Time:3.53\n",
    "# ====> Validation Total Loss: 23999512576.0000, Rec. Loss: 7.1436\n",
    "# ====> Epoch:6, Total Loss: 8132679.8750, Rec_arm_1: 6.6561, Rec_arm_2: 6.7642, Joint Loss: 8065148.5000, Entropy: -7.7605, Distance: 0.4065, Elapsed Time:3.60\n",
    "# ====> Validation Total Loss: 31686617088.0000, Rec. Loss: 6.0345\n",
    "# ====> Epoch:7, Total Loss: 6335305.1250, Rec_arm_1: 5.3905, Rec_arm_2: 5.5418, Joint Loss: 6280293.0000, Entropy: -7.8043, Distance: 0.4005, Elapsed Time:3.63\n",
    "# ====> Validation Total Loss: 36792733696.0000, Rec. Loss: 4.7336\n",
    "# ====> Epoch:8, Total Loss: 5184599.3750, Rec_arm_1: 4.3659, Rec_arm_2: 4.3467, Joint Loss: 5140757.0000, Entropy: -7.8469, Distance: 0.3987, Elapsed Time:3.51\n",
    "# ====> Validation Total Loss: 38023708672.0000, Rec. Loss: 4.0776\n",
    "# ====> Epoch:9, Total Loss: 4790232.1250, Rec_arm_1: 4.2830, Rec_arm_2: 4.0376, Joint Loss: 4748362.0000, Entropy: -7.8604, Distance: 0.3998, Elapsed Time:3.57\n",
    "# ====> Validation Total Loss: 36604887040.0000, Rec. Loss: 3.9312\n",
    "# Training with pruning...\n",
    "# Purned categories: [1]\n",
    "# ====> Epoch:0, Total Loss: 4001048.3125, Rec_arm_1: 3.8611, Rec_arm_2: 3.8509, Joint Loss: 3962241.0000, Entropy: -7.8664, Distance: 0.3989, Elapsed Time:3.85\n",
    "# ====> Validation Total Loss: nan, Rec. Loss: 3.5026\n",
    "# ====> Epoch:1, Total Loss: 3639977.4375, Rec_arm_1: 3.5320, Rec_arm_2: 3.3895, Joint Loss: 3605148.2500, Entropy: -7.8894, Distance: 0.3974, Elapsed Time:3.83\n",
    "# ====> Validation Total Loss: nan, Rec. Loss: 3.4378\n",
    "# ====> Epoch:2, Total Loss: 3534881.8125, Rec_arm_1: 3.4955, Rec_arm_2: 3.3030, Joint Loss: 3500671.7500, Entropy: -7.9030, Distance: 0.3960, Elapsed Time:4.10\n",
    "# ====> Validation Total Loss: nan, Rec. Loss: 3.4195\n",
    "# ====> Epoch:3, Total Loss: 3155906.8125, Rec_arm_1: 3.4152, Rec_arm_2: 3.2708, Joint Loss: 3122262.7500, Entropy: -7.9187, Distance: 0.3939, Elapsed Time:4.40\n",
    "# ====> Validation Total Loss: nan, Rec. Loss: 3.3164\n",
    "# ====> Epoch:4, Total Loss: 2953709.7500, Rec_arm_1: 3.3518, Rec_arm_2: 3.1916, Joint Loss: 2920782.5000, Entropy: -7.9333, Distance: 0.3947, Elapsed Time:3.98\n",
    "# ====> Validation Total Loss: nan, Rec. Loss: 3.2596\n",
    "# Training with pruning...\n",
    "# Purned categories: [1 2]\n",
    "# ====> Epoch:0, Total Loss: 2872254.8750, Rec_arm_1: 3.3458, Rec_arm_2: 3.1647, Joint Loss: 2839493.0000, Entropy: -7.9148, Distance: 0.3927, Elapsed Time:3.81\n",
    "# ====> Validation Total Loss: nan, Rec. Loss: 3.2327\n",
    "# ====> Epoch:1, Total Loss: 2638138.1875, Rec_arm_1: 3.3082, Rec_arm_2: 3.1392, Joint Loss: 2605694.2500, Entropy: -7.9227, Distance: 0.3921, Elapsed Time:3.87\n",
    "# ====> Validation Total Loss: nan, Rec. Loss: 3.1979\n",
    "# ====> Epoch:2, Total Loss: 2455072.6250, Rec_arm_1: 3.2809, Rec_arm_2: 3.0947, Joint Loss: 2422990.5000, Entropy: -7.9277, Distance: 0.3917, Elapsed Time:3.78\n",
    "# ====> Validation Total Loss: nan, Rec. Loss: 3.1861\n",
    "# ====> Epoch:3, Total Loss: 2434174.7500, Rec_arm_1: 3.2733, Rec_arm_2: 3.0776, Joint Loss: 2402216.5000, Entropy: -7.9398, Distance: 0.3898, Elapsed Time:3.97\n",
    "# ====> Validation Total Loss: nan, Rec. Loss: 3.1811\n",
    "# ====> Epoch:4, Total Loss: 2520542.7500, Rec_arm_1: 3.2612, Rec_arm_2: 3.0682, Joint Loss: 2488693.0000, Entropy: -7.9395, Distance: 0.3899, Elapsed Time:3.85\n",
    "# ====> Validation Total Loss: nan, Rec. Loss: 3.1711\n",
    "# No more pruning!\n",
    "# Training is done!"
   ]
  },
  {
   "cell_type": "code",
   "execution_count": null,
   "metadata": {},
   "outputs": [
    {
     "data": {
      "text/plain": [
       "'abc'"
      ]
     },
     "execution_count": 12,
     "metadata": {},
     "output_type": "execute_result"
    }
   ],
   "source": [
    "def join(s, *args, **kwargs): \n",
    "    return s.join(*args, **kwargs)\n",
    "\n",
    "join('', ['a', 'b', 'c'])"
   ]
  },
  {
   "cell_type": "code",
   "execution_count": null,
   "metadata": {},
   "outputs": [],
   "source": [
    "# TODO: [] make more robust\n",
    "def pprint(dct): \n",
    "  for k, v in fsdp_dct.items():\n",
    "    print(f\"{k}: {{\")\n",
    "    for kk, vv in v.items():\n",
    "        print(f\"\\t{kk}: [{', '.join(map(str, vv))}]\")\n",
    "    print(\"}\")"
   ]
  },
  {
   "cell_type": "markdown",
   "metadata": {},
   "source": [
    "Working directly with command line, you have the option to train the model using a Python file, such as ```tutorial/train_unimodal.py``` as follows.\n",
    "\n",
    "```\n",
    "python train_unimodal.py --n_epoch 10 --n_epoch_p 5 --max_prun_it 2\n",
    "```\n",
    "or\n",
    "```\n",
    "python train_unimodal.py --n_epoch 10 --n_epoch_p 5 --max_prun_it 2 --device 'cuda'\n",
    "```"
   ]
  },
  {
   "cell_type": "markdown",
   "metadata": {},
   "source": []
  }
 ],
 "metadata": {
  "kernelspec": {
   "display_name": "Python 3",
   "language": "python",
   "name": "python3"
  },
  "language_info": {
   "codemirror_mode": {
    "name": "ipython",
    "version": 3
   },
   "file_extension": ".py",
   "mimetype": "text/x-python",
   "name": "python",
   "nbconvert_exporter": "python",
   "pygments_lexer": "ipython3",
   "version": "3.10.14"
  },
  "orig_nbformat": 4
 },
 "nbformat": 4,
 "nbformat_minor": 2
}
