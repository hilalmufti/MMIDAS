{
 "cells": [
  {
   "cell_type": "markdown",
   "metadata": {},
   "source": [
    "### Preparing the data\n",
    "In this notebook, we demonstrate how to prepare the Mouse Smart-seq dataset, which is a single-cell dataset was released as part of a transcriptomic cell types study in [Tasic et al., 2018](https://portal.brain-map.org/atlases-and-data/rnaseq/mouse-v1-and-alm-smart-seq). The dataset includes RNA sequencing of neurons from the anterolateral motor cortex (ALM) and primary visual cortex (VISp) regions of adult mice using Smart-seq (SSv4) platform. "
   ]
  },
  {
   "cell_type": "code",
   "execution_count": 1,
   "metadata": {},
   "outputs": [],
   "source": [
    "import pandas as pd\n",
    "import numpy as np\n",
    "import anndata as ad\n",
    "from scipy.sparse import csr_matrix\n",
    "from mmidas.utils.taxonomy import HTree\n",
    "from mmidas.utils.tools import logcpm, get_paths\n",
    "\n",
    "%matplotlib inline\n",
    "import warnings\n",
    "warnings.filterwarnings('ignore')"
   ]
  },
  {
   "cell_type": "markdown",
   "metadata": {},
   "source": [
    "Download ```zip``` files and locate them within the ```data``` folder. "
   ]
  },
  {
   "cell_type": "code",
   "execution_count": 2,
   "metadata": {},
   "outputs": [
    {
     "name": "stdout",
     "output_type": "stream",
     "text": [
      "/Users/yeganeh.marghi/github/MMIDAS/pyproject.toml\n",
      "Getting files directories belong to smartseq_files...\n"
     ]
    }
   ],
   "source": [
    "toml_file = 'pyproject.toml'\n",
    "sub_file = 'smartseq_files'\n",
    "config = get_paths(toml_file=toml_file, sub_file=sub_file)\n",
    "data_path = config['paths']['main_dir'] / config['paths']['data_path']"
   ]
  },
  {
   "cell_type": "code",
   "execution_count": 3,
   "metadata": {},
   "outputs": [
    {
     "name": "stdout",
     "output_type": "stream",
     "text": [
      "Total number of cells in VISp and ALM: 15413, 10068\n"
     ]
    }
   ],
   "source": [
    "# Load the mouse Smart-seq VISp data\n",
    "data_VISp_exon = data_path / 'mouse_VISp_2018-06-14_exon-matrix.csv'\n",
    "anno_VISp = data_path / 'mouse_VISp_2018-06-14_samples-columns.csv'\n",
    "df_vis_exon = pd.read_csv(data_VISp_exon)\n",
    "df_vis_anno = pd.read_csv(anno_VISp, encoding='unicode_escape')\n",
    "\n",
    "# Load the mouse Smart-seq ALM data\n",
    "data_ALM_exon = data_path / 'mouse_ALM_2018-06-14_exon-matrix.csv'\n",
    "anno_ALM = data_path / 'mouse_ALM_2018-06-14_samples-columns.csv'\n",
    "df_alm_exon = pd.read_csv(data_ALM_exon)\n",
    "df_alm_anno = pd.read_csv(anno_ALM, encoding='unicode_escape')\n",
    "\n",
    "print(f'Total number of cells in VISp and ALM: {len(df_vis_anno)}, {len(df_alm_anno)}')"
   ]
  },
  {
   "cell_type": "code",
   "execution_count": 4,
   "metadata": {},
   "outputs": [
    {
     "name": "stdout",
     "output_type": "stream",
     "text": [
      "[30890.15859407 34090.13980254 35085.63428565 ... 34077.15380524\n",
      " 31090.81791427 35629.482184  ]\n"
     ]
    }
   ],
   "source": [
    "# Get the neuronal cells across brain regions\n",
    "vis_neuron = df_vis_anno['class'].isin(['GABAergic', 'Glutamatergic'])\n",
    "alm_neuron = df_alm_anno['class'].isin(['GABAergic', 'Glutamatergic'])\n",
    "vis_counts = df_vis_exon.values[:, 1:][:, vis_neuron].T\n",
    "alm_counts = df_alm_exon.values[:, 1:][:, alm_neuron].T\n",
    "\n",
    "df_anno_ = pd.concat([df_vis_anno[vis_neuron], df_alm_anno[alm_neuron]], ignore_index=True)\n",
    "total_count = np.concatenate((vis_counts, alm_counts), axis=0)\n",
    "\n",
    "# Normalized counts values using LogCPM\n",
    "logCPM = logcpm(x=total_count, scaler=1e6)\n",
    "print(np.sum(logCPM, axis=1))"
   ]
  },
  {
   "cell_type": "code",
   "execution_count": 5,
   "metadata": {},
   "outputs": [
    {
     "name": "stdout",
     "output_type": "stream",
     "text": [
      "      gene_symbol    gene_id chromosome  gene_entrez_id  \\\n",
      "41530      Sssca1  500741647         19           56390   \n",
      "41531         Sst  500737291         16           20604   \n",
      "41532       Sstr1  500729687         12           20605   \n",
      "41533       Sstr2  500728684         11           20606   \n",
      "41534       Sstr3  500736064         15           20607   \n",
      "41535       Sstr4  500704969          2           20608   \n",
      "41536       Sstr5  500738797         17           20609   \n",
      "41537       Ssty1  500745186          Y           20611   \n",
      "41538       Ssty2  500745340          Y           70009   \n",
      "41539        Ssu2  500714992          6          243612   \n",
      "\n",
      "                                               gene_name  \n",
      "41530  Sjogren''s syndrome/scleroderma autoantigen 1 ...  \n",
      "41531                                       somatostatin  \n",
      "41532                            somatostatin receptor 1  \n",
      "41533                            somatostatin receptor 2  \n",
      "41534                            somatostatin receptor 3  \n",
      "41535                            somatostatin receptor 4  \n",
      "41536                            somatostatin receptor 5  \n",
      "41537      spermiogenesis specific transcript on the Y 1  \n",
      "41538      spermiogenesis specific transcript on the Y 2  \n",
      "41539                         ssu-2 homolog (C. elegans)  \n",
      "----------------------------------------------------------------------------------------------------\n",
      "Total number of genes: 45768, Number of selected genes: 5032\n"
     ]
    }
   ],
   "source": [
    "# list of all genes in the dataset\n",
    "ref_gene_file = data_path / 'mouse_ALM_2018-06-14_genes-rows.csv'\n",
    "\n",
    "# selected genes for mouse Smart-seq data analysis\n",
    "slc_gene_file = data_path / config[sub_file]['ref_gene_file']\n",
    "\n",
    "ref_genes_df = pd.read_csv(ref_gene_file)\n",
    "slc_gene_df = pd.read_csv(slc_gene_file)\n",
    "\n",
    "print(ref_genes_df[41530:41540])\n",
    "print('-'*100)\n",
    "print(f'Total number of genes: {len(ref_genes_df)}, Number of selected genes: {len(slc_gene_df)}')"
   ]
  },
  {
   "cell_type": "markdown",
   "metadata": {},
   "source": [
    "Filter out genes that were not selected, as well as two categories of cells: low quality cells, and those belonging to ```CR``` and ```Meis2``` subclasses."
   ]
  },
  {
   "cell_type": "code",
   "execution_count": 6,
   "metadata": {},
   "outputs": [
    {
     "name": "stdout",
     "output_type": "stream",
     "text": [
      "final shape of normalized gene expresion matix: (22365, 5032)\n"
     ]
    }
   ],
   "source": [
    "genes = slc_gene_df.genes.values\n",
    "gene_indx = [np.where(ref_genes_df.gene_symbol.values == gg)[0][0] for gg in genes]\n",
    "log1p = logCPM[:, gene_indx]\n",
    "\n",
    "# remove low quality cells and CR and Meis2 subclasses\n",
    "mask = (df_anno_['cluster']!='Low Quality') & (df_anno_['cluster']!='CR Lhx5') & (df_anno_['cluster']!='Meis2 Adamts19')\n",
    "df_anno = df_anno_[mask].reset_index() \n",
    "log1p = log1p[mask, :]\n",
    "\n",
    "print(f'final shape of normalized gene expresion matix: {log1p.shape}')"
   ]
  },
  {
   "cell_type": "markdown",
   "metadata": {},
   "source": [
    "Build an AnnData object for the dataloader. "
   ]
  },
  {
   "cell_type": "code",
   "execution_count": 7,
   "metadata": {},
   "outputs": [],
   "source": [
    "# load the tree.csv to obtain colors for t-types on the taxonomies\n",
    "htree_file = data_path / config[sub_file]['htree_file']\n",
    "treeObj = HTree(htree_file=htree_file)\n",
    "ttypes = treeObj.child[treeObj.isleaf]\n",
    "colors = treeObj.col[treeObj.isleaf]\n",
    "df_anno.rename(columns={\"seq_name\": \"sample_id\", \"class\": \"class_label\"})\n",
    "\n",
    "# rename two cell types according to the taxonomy\n",
    "df_anno['cluster'][df_anno['cluster'] == 'L6b VISp Col8a1 Rprm'] = 'L6b Col8a1 Rprm'\n",
    "df_anno['cluster'][df_anno['cluster'] == 'L6 CT ALM Nxph2 Sla'] = 'L6 CT Nxph2 Sla'"
   ]
  },
  {
   "cell_type": "code",
   "execution_count": 8,
   "metadata": {},
   "outputs": [],
   "source": [
    "# save data as AnnData object\n",
    "sub_df = df_anno[['sample_name', 'sample_id', 'seq_batch', 'sex', 'brain_hemisphere', 'brain_region', 'brain_subregion', 'class', 'subclass', 'cluster', 'confusion_score']]\n",
    "adata = ad.AnnData(X=csr_matrix(log1p), obs=sub_df)\n",
    "adata.var_names = genes\n",
    "adata.obs_names = sub_df.sample_id.values   \n",
    "adata.write_h5ad(data_path / config[sub_file]['anndata_file'])"
   ]
  }
 ],
 "metadata": {
  "kernelspec": {
   "display_name": "scVAE",
   "language": "python",
   "name": "python3"
  },
  "language_info": {
   "codemirror_mode": {
    "name": "ipython",
    "version": 3
   },
   "file_extension": ".py",
   "mimetype": "text/x-python",
   "name": "python",
   "nbconvert_exporter": "python",
   "pygments_lexer": "ipython3",
   "version": "3.9.18"
  },
  "orig_nbformat": 4
 },
 "nbformat": 4,
 "nbformat_minor": 2
}
